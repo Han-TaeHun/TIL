{
  "cells": [
    {
      "cell_type": "code",
      "execution_count": null,
      "id": "0ca3a7f6",
      "metadata": {
        "execution": {
          "iopub.execute_input": "2024-07-23T04:50:32.424262Z",
          "iopub.status.busy": "2024-07-23T04:50:32.423800Z",
          "iopub.status.idle": "2024-07-23T04:50:34.429742Z",
          "shell.execute_reply": "2024-07-23T04:50:34.427985Z"
        },
        "papermill": {
          "duration": 2.01442,
          "end_time": "2024-07-23T04:50:34.432575",
          "exception": false,
          "start_time": "2024-07-23T04:50:32.418155",
          "status": "completed"
        },
        "tags": [],
        "id": "0ca3a7f6"
      },
      "outputs": [],
      "source": [
        "import numpy as np\n",
        "import pandas as pd\n",
        "from pathlib import Path\n",
        "from sklearn.preprocessing import MinMaxScaler\n",
        "import warnings\n",
        "warnings.filterwarnings(\"ignore\")"
      ]
    },
    {
      "cell_type": "code",
      "execution_count": null,
      "id": "3b822c88",
      "metadata": {
        "execution": {
          "iopub.execute_input": "2024-07-23T04:50:34.442244Z",
          "iopub.status.busy": "2024-07-23T04:50:34.441649Z",
          "iopub.status.idle": "2024-07-23T04:51:08.091522Z",
          "shell.execute_reply": "2024-07-23T04:51:08.090382Z"
        },
        "papermill": {
          "duration": 33.657793,
          "end_time": "2024-07-23T04:51:08.094300",
          "exception": false,
          "start_time": "2024-07-23T04:50:34.436507",
          "status": "completed"
        },
        "tags": [],
        "id": "3b822c88"
      },
      "outputs": [],
      "source": [
        "\n",
        "INPUT_DIR = Path('/kaggle/input/playground-series-s4e7')\n",
        "TARGET_NAME = 'Response'\n",
        "\n",
        "train_data = pd.read_csv(INPUT_DIR / 'train.csv')\n",
        "test_data = pd.read_csv(INPUT_DIR / 'test.csv')\n",
        "\n",
        "# 오리지날 데이터를 이용했음\n",
        "orig_data = pd.read_csv('/kaggle/input/health-insurance-cross-sell-prediction/train.csv')\n",
        "\n",
        "#  test set의 있는 특성위주로 작업할 생각한 듯\n",
        "features = sorted(set(test_data.columns) - set(['id']))"
      ]
    },
    {
      "cell_type": "code",
      "execution_count": null,
      "id": "3a034078",
      "metadata": {
        "execution": {
          "iopub.execute_input": "2024-07-23T04:51:08.104636Z",
          "iopub.status.busy": "2024-07-23T04:51:08.103498Z",
          "iopub.status.idle": "2024-07-23T04:51:16.493727Z",
          "shell.execute_reply": "2024-07-23T04:51:16.492619Z"
        },
        "papermill": {
          "duration": 8.398078,
          "end_time": "2024-07-23T04:51:16.496468",
          "exception": false,
          "start_time": "2024-07-23T04:51:08.098390",
          "status": "completed"
        },
        "tags": [],
        "id": "3a034078",
        "outputId": "116784b5-0b34-46ca-a589-25ee3da5a59a"
      },
      "outputs": [
        {
          "data": {
            "text/html": [
              "<div>\n",
              "<style scoped>\n",
              "    .dataframe tbody tr th:only-of-type {\n",
              "        vertical-align: middle;\n",
              "    }\n",
              "\n",
              "    .dataframe tbody tr th {\n",
              "        vertical-align: top;\n",
              "    }\n",
              "\n",
              "    .dataframe thead th {\n",
              "        text-align: right;\n",
              "    }\n",
              "</style>\n",
              "<table border=\"1\" class=\"dataframe\">\n",
              "  <thead>\n",
              "    <tr style=\"text-align: right;\">\n",
              "      <th></th>\n",
              "      <th>Response_x</th>\n",
              "      <th>Response_y</th>\n",
              "      <th>count</th>\n",
              "    </tr>\n",
              "  </thead>\n",
              "  <tbody>\n",
              "    <tr>\n",
              "      <th>0</th>\n",
              "      <td>0</td>\n",
              "      <td>1</td>\n",
              "      <td>4124</td>\n",
              "    </tr>\n",
              "    <tr>\n",
              "      <th>1</th>\n",
              "      <td>1</td>\n",
              "      <td>0</td>\n",
              "      <td>4025</td>\n",
              "    </tr>\n",
              "  </tbody>\n",
              "</table>\n",
              "</div>"
            ],
            "text/plain": [
              "   Response_x  Response_y  count\n",
              "0           0           1   4124\n",
              "1           1           0   4025"
            ]
          },
          "execution_count": 3,
          "metadata": {},
          "output_type": "execute_result"
        }
      ],
      "source": [
        "\n",
        " # train set과 original set을 합친다.\n",
        "# on = features가 같은 것만 뽑아는 매개변수\n",
        "# filter = 같은 feature이 있다면 뒤에 따로 default is (“_x”, “_y”) 붙음 suffixes 매개변수로 변경 가능\n",
        "# reset_index() - index 열의 생성여부를 정할 수 있음\n",
        "  (train_data\n",
        "    .merge(orig_data, on=features)\n",
        "    .filter(['Response_x', 'Response_y'])\n",
        "    .value_counts()\n",
        "    .reset_index()\n",
        ")"
      ]
    },
    {
      "cell_type": "code",
      "execution_count": null,
      "id": "9258c49c",
      "metadata": {
        "execution": {
          "iopub.execute_input": "2024-07-23T04:51:16.506575Z",
          "iopub.status.busy": "2024-07-23T04:51:16.506156Z",
          "iopub.status.idle": "2024-07-23T04:51:22.341401Z",
          "shell.execute_reply": "2024-07-23T04:51:22.340271Z"
        },
        "papermill": {
          "duration": 5.843243,
          "end_time": "2024-07-23T04:51:22.343958",
          "exception": false,
          "start_time": "2024-07-23T04:51:16.500715",
          "status": "completed"
        },
        "tags": [],
        "id": "9258c49c"
      },
      "outputs": [],
      "source": [
        "# assign - DataFrame에 새 열을 할당하는 메서드\n",
        "#  ㄴ overide라는 column이 생김\n",
        "# np.where - 조건 에 따라 x 또는 y 에서 선택된 요소를 반환\n",
        "# lambda의 x는 merge된 상태의 DataFrame\n",
        "# agg - 여러개의 함수를 여러 열에 적용\n",
        "override_sub = (test_data\n",
        "    .merge(orig_data.drop(columns=['id']), on=features)\n",
        "    .assign(override = lambda x: np.where(x['Response'] == 0, 1, 0))\n",
        "    .filter(['id', 'override'])\n",
        "    # we can get duplicates...\n",
        "    .groupby(['id'], as_index=False)\n",
        "    .agg(override = ('override', 'mean')))"
      ]
    },
    {
      "cell_type": "code",
      "execution_count": null,
      "id": "adf334e7",
      "metadata": {
        "execution": {
          "iopub.execute_input": "2024-07-23T04:51:22.354523Z",
          "iopub.status.busy": "2024-07-23T04:51:22.354088Z",
          "iopub.status.idle": "2024-07-23T04:51:44.613409Z",
          "shell.execute_reply": "2024-07-23T04:51:44.612254Z"
        },
        "papermill": {
          "duration": 22.267691,
          "end_time": "2024-07-23T04:51:44.616236",
          "exception": false,
          "start_time": "2024-07-23T04:51:22.348545",
          "status": "completed"
        },
        "tags": [],
        "id": "adf334e7"
      },
      "outputs": [],
      "source": [
        "# 원래 데이터와 일치하는 모든 행을 재정의합니다:\n",
        "# 다른 노트북의 csv데이터를 가져옴\n",
        "ivans_sub = pd.read_csv('/kaggle/input/s04e07-insurance-cross-selling-catboost/sub_catboost_0.89487.csv')\n",
        "\n",
        "# how - \"outer\"은 합집합\n",
        "\n",
        "(ivans_sub\n",
        "    .merge(override_sub, how='outer')\n",
        "    .assign(Response = lambda x: np.where(x['override'].isna(), x['Response'], x['override']))\n",
        "    .filter(['id', 'Response'])\n",
        "    .to_csv('override_submission.csv', index=False))"
      ]
    },
    {
      "cell_type": "code",
      "execution_count": null,
      "id": "408d2a70",
      "metadata": {
        "execution": {
          "iopub.execute_input": "2024-07-23T04:51:44.626493Z",
          "iopub.status.busy": "2024-07-23T04:51:44.626062Z",
          "iopub.status.idle": "2024-07-23T04:52:06.395767Z",
          "shell.execute_reply": "2024-07-23T04:52:06.394320Z"
        },
        "papermill": {
          "duration": 21.778353,
          "end_time": "2024-07-23T04:52:06.398672",
          "exception": false,
          "start_time": "2024-07-23T04:51:44.620319",
          "status": "completed"
        },
        "tags": [],
        "id": "408d2a70"
      },
      "outputs": [],
      "source": [
        "# 다른 노트북의 csv데이터를 가져옴\n",
        "ivans_sub2 = pd.read_csv('/kaggle/input/ps4e7-classification-generalization/submission.csv')\n",
        "\n",
        "(ivans_sub2\n",
        "    .merge(override_sub, how='outer')\n",
        "    .assign(Response = lambda x: np.where(x['override'].isna(), x['Response'], x['override']))\n",
        "    .filter(['id', 'Response'])\n",
        "    .to_csv('override_submission2.csv', index=False))"
      ]
    },
    {
      "cell_type": "code",
      "execution_count": null,
      "id": "4e2ff125",
      "metadata": {
        "execution": {
          "iopub.execute_input": "2024-07-23T04:52:06.409539Z",
          "iopub.status.busy": "2024-07-23T04:52:06.409100Z",
          "iopub.status.idle": "2024-07-23T04:52:06.414546Z",
          "shell.execute_reply": "2024-07-23T04:52:06.413337Z"
        },
        "papermill": {
          "duration": 0.013907,
          "end_time": "2024-07-23T04:52:06.417178",
          "exception": false,
          "start_time": "2024-07-23T04:52:06.403271",
          "status": "completed"
        },
        "tags": [],
        "id": "4e2ff125"
      },
      "outputs": [],
      "source": [
        "targets=[\"Response\"]\n",
        "target=targets[0]"
      ]
    },
    {
      "cell_type": "markdown",
      "source": [
        "함수 설명\n",
        "* 매개변수\n",
        "    * sub_list: 예측 결과를 담고 있는 DataFrame 객체들의 리스트입니다. 각 DataFrame에는 예측된 결과 값이 포함되어 있습니다.\n",
        "    * cols: 평균을 계산할 때 사용할 열(column)들의 리스트입니다.\n",
        "    * mean: 평균을 계산하는 방법을 선택하는 매개변수입니다. 기본값은 \"AM\"이며, 다음 세 가지 옵션이 가능합니다:\n",
        "* \"AM\": 산술 평균 (Arithmetic Mean)\n",
        "* \"GM\": 기하 평균 (Geometric Mean)\n",
        "* \"HM\": 조화 평균 (Harmonic Mean)\n",
        "* 반환값\n",
        "    * sub_out: 평균 계산 후의 결과를 담고 있는 DataFrame 객체입니다. sub_list 중 첫 번째  DataFrame을 복사한 후, 지정된 평균 방법에 따라 선택한 열의 값을 수정합니다."
      ],
      "metadata": {
        "id": "Emws3zS3gEbR"
      },
      "id": "Emws3zS3gEbR"
    },
    {
      "cell_type": "code",
      "execution_count": null,
      "id": "d9b8b90e",
      "metadata": {
        "execution": {
          "iopub.execute_input": "2024-07-23T04:52:06.427731Z",
          "iopub.status.busy": "2024-07-23T04:52:06.427260Z",
          "iopub.status.idle": "2024-07-23T04:52:06.436298Z",
          "shell.execute_reply": "2024-07-23T04:52:06.435028Z"
        },
        "papermill": {
          "duration": 0.0172,
          "end_time": "2024-07-23T04:52:06.438794",
          "exception": false,
          "start_time": "2024-07-23T04:52:06.421594",
          "status": "completed"
        },
        "tags": [],
        "id": "d9b8b90e"
      },
      "outputs": [],
      "source": [
        "def ensemble_mean(sub_list,cols, mean=\"AM\"):\n",
        "\n",
        "    \"\"\"\n",
        "    이 함수는 특정 결과가 포함된 결과 목록이 주어지면 산술 평균/측량 평균/하모닉 평균을 계산합니다.\n",
        "    \"\"\"\n",
        "\n",
        "    sub_out=sub_list[0].copy()\n",
        "    if mean==\"AM\":\n",
        "        for col in cols:\n",
        "            sub_out[col]=sum(df[col] for df in sub_list)/len(sub_list)\n",
        "    elif mean==\"GM\":\n",
        "        for df in sub_list[1:]:\n",
        "            for col in cols:\n",
        "                sub_out[col]*=df[col]\n",
        "        for col in cols:\n",
        "            sub_out[col]=(sub_out[col])**(1/len(sub_list))\n",
        "    elif mean==\"HM\":\n",
        "        for col in cols:\n",
        "            sub_out[col]=len(sub_list)/sum(1/df[col] for df in sub_list)\n",
        "\n",
        "    return sub_out"
      ]
    },
    {
      "cell_type": "code",
      "execution_count": null,
      "id": "bd47a169",
      "metadata": {
        "execution": {
          "iopub.execute_input": "2024-07-23T04:52:06.449297Z",
          "iopub.status.busy": "2024-07-23T04:52:06.448903Z",
          "iopub.status.idle": "2024-07-23T04:52:06.675266Z",
          "shell.execute_reply": "2024-07-23T04:52:06.674161Z"
        },
        "papermill": {
          "duration": 0.234848,
          "end_time": "2024-07-23T04:52:06.678180",
          "exception": false,
          "start_time": "2024-07-23T04:52:06.443332",
          "status": "completed"
        },
        "tags": [],
        "id": "bd47a169"
      },
      "outputs": [],
      "source": [
        "# 전처리 메소드 함수화\n",
        "from sklearn.preprocessing import MinMaxScaler\n",
        "def scale(df,targets):\n",
        "    sc=MinMaxScaler()\n",
        "    df[targets]=sc.fit_transform(df[targets])\n",
        "\n",
        "    return df\n",
        "\n",
        "sub1=scale(ivans_sub,targets)\n",
        "sub2=scale(ivans_sub2,targets)"
      ]
    },
    {
      "cell_type": "markdown",
      "source": [
        "\n",
        "\n",
        "```\n",
        "sub_list=[sub1, sub2]\n",
        "weights=np.square([6, 3])\n",
        "\n",
        "```\n",
        "\n",
        "* sub_list: 예측 결과가 담긴 두 개의 데이터프레임, sub1과 sub2.\n",
        "* weights: 각 데이터프레임에 적용할 가중치. [6, 3]의 제곱을 취해 [36, 9]로 변환됩니다.\n",
        "\n",
        "---\n"
      ],
      "metadata": {
        "id": "1-atazuqhSvo"
      },
      "id": "1-atazuqhSvo"
    },
    {
      "cell_type": "markdown",
      "source": [
        "\n",
        "\n",
        "```\n",
        "if len(sub_list)==len(weights):\n",
        "    weighted_list = [item for sublist, weight in zip(sub_list, weights) for item in [sublist] * weight]\n",
        "\n",
        "```\n",
        "조건문은 sub_list와 weights의 길이가 같은지 확인합니다.<br>\n",
        "zip(sub_list, weights)는 sub_list와 weights를 쌍으로 묶습니다.<br>\n",
        "리스트 내포를 통해 각 sublist를 weight만큼 반복하여 weighted_list를 만듭니다. <br>\n",
        "즉, sub1은 36번, sub2는 9번 복사되어 weighted_list에 추가됩니다. <br>\n",
        "이 과정은 가중치를 반영하여 데이터프레임을 중복시키는 방식으로 가중치를 적용하는 것입니다.\n",
        "\n",
        "---\n"
      ],
      "metadata": {
        "id": "0sA3nGfnhaVG"
      },
      "id": "0sA3nGfnhaVG"
    },
    {
      "cell_type": "markdown",
      "source": [
        "\n",
        "\n",
        "```\n",
        "sub_ensemble = ensemble_mean(weighted_list, targets, mean=\"AM\")\n",
        "sub_ensemble.to_csv('submission.csv', index=False)\n",
        "sub_ensemble.head()\n",
        "\n",
        "```\n",
        "\n",
        "* ensemble_mean 함수를 사용하여 weighted_list의 가중치가 반영된 데이터프레임에 대해 산술 평균(AM)을 계산합니다.\n",
        "* 계산된 결과는 sub_ensemble에 저장됩니다.\n",
        "* sub_ensemble을 'submission.csv' 파일로 저장합니다. index=False는 데이터프레임의 인덱스를 파일에 포함하지 않도록 설정합니다.\n",
        "* sub_ensemble.head()는 최종 결과 데이터프레임의 상위 5개 행을 출력합니다.\n",
        "\n",
        "\n",
        "---\n"
      ],
      "metadata": {
        "id": "jf4BoVfwhpJx"
      },
      "id": "jf4BoVfwhpJx"
    },
    {
      "cell_type": "code",
      "execution_count": null,
      "id": "821ddf54",
      "metadata": {
        "execution": {
          "iopub.execute_input": "2024-07-23T04:52:06.687965Z",
          "iopub.status.busy": "2024-07-23T04:52:06.687546Z",
          "iopub.status.idle": "2024-07-23T04:52:25.545844Z",
          "shell.execute_reply": "2024-07-23T04:52:25.544448Z"
        },
        "papermill": {
          "duration": 18.86629,
          "end_time": "2024-07-23T04:52:25.548519",
          "exception": false,
          "start_time": "2024-07-23T04:52:06.682229",
          "status": "completed"
        },
        "tags": [],
        "id": "821ddf54",
        "outputId": "92c502fa-9125-4a48-bed0-bd1c8f2b89b7"
      },
      "outputs": [
        {
          "data": {
            "text/html": [
              "<div>\n",
              "<style scoped>\n",
              "    .dataframe tbody tr th:only-of-type {\n",
              "        vertical-align: middle;\n",
              "    }\n",
              "\n",
              "    .dataframe tbody tr th {\n",
              "        vertical-align: top;\n",
              "    }\n",
              "\n",
              "    .dataframe thead th {\n",
              "        text-align: right;\n",
              "    }\n",
              "</style>\n",
              "<table border=\"1\" class=\"dataframe\">\n",
              "  <thead>\n",
              "    <tr style=\"text-align: right;\">\n",
              "      <th></th>\n",
              "      <th>id</th>\n",
              "      <th>Response</th>\n",
              "    </tr>\n",
              "  </thead>\n",
              "  <tbody>\n",
              "    <tr>\n",
              "      <th>0</th>\n",
              "      <td>11504798</td>\n",
              "      <td>0.004479</td>\n",
              "    </tr>\n",
              "    <tr>\n",
              "      <th>1</th>\n",
              "      <td>11504799</td>\n",
              "      <td>0.673191</td>\n",
              "    </tr>\n",
              "    <tr>\n",
              "      <th>2</th>\n",
              "      <td>11504800</td>\n",
              "      <td>0.242349</td>\n",
              "    </tr>\n",
              "    <tr>\n",
              "      <th>3</th>\n",
              "      <td>11504801</td>\n",
              "      <td>0.000162</td>\n",
              "    </tr>\n",
              "    <tr>\n",
              "      <th>4</th>\n",
              "      <td>11504802</td>\n",
              "      <td>0.214106</td>\n",
              "    </tr>\n",
              "  </tbody>\n",
              "</table>\n",
              "</div>"
            ],
            "text/plain": [
              "         id  Response\n",
              "0  11504798  0.004479\n",
              "1  11504799  0.673191\n",
              "2  11504800  0.242349\n",
              "3  11504801  0.000162\n",
              "4  11504802  0.214106"
            ]
          },
          "execution_count": 10,
          "metadata": {},
          "output_type": "execute_result"
        }
      ],
      "source": [
        "sub_list=[sub1,sub2]\n",
        "\n",
        "# 각 모델의 예측 결과에 부여할 중요도를 weights 안에 변수로 지정\n",
        "weights=np.square([6,3])\n",
        "if len(sub_list)==len(weights):\n",
        "    weighted_list = [item for sublist, weight in zip(sub_list, weights) for item in [sublist] * weight]\n",
        "\n",
        "sub_ensemble=ensemble_mean(weighted_list,targets,mean=\"AM\")\n",
        "sub_ensemble.to_csv('submission.csv',index=False)\n",
        "sub_ensemble.head()"
      ]
    },
    {
      "cell_type": "markdown",
      "source": [
        "np.random.beta는 베타 분포에서 무작위 샘플을 생성하는 데 사용됩니다. 베타 분포는 [0, 1] 구간에서 정의되는 연속 확률 분포로, 주로 베이지안 통계학에서 확률을 모델링할 때 자주 사용됩니다."
      ],
      "metadata": {
        "id": "U3lkdc5LWvdp"
      },
      "id": "U3lkdc5LWvdp"
    },
    {
      "cell_type": "code",
      "execution_count": null,
      "id": "dc0d727c",
      "metadata": {
        "_kg_hide-input": true,
        "_kg_hide-output": false,
        "execution": {
          "iopub.execute_input": "2024-07-23T04:52:25.559447Z",
          "iopub.status.busy": "2024-07-23T04:52:25.558407Z",
          "iopub.status.idle": "2024-07-23T04:52:43.938977Z",
          "shell.execute_reply": "2024-07-23T04:52:43.937648Z"
        },
        "papermill": {
          "duration": 18.389095,
          "end_time": "2024-07-23T04:52:43.941867",
          "exception": false,
          "start_time": "2024-07-23T04:52:25.552772",
          "status": "completed"
        },
        "tags": [],
        "id": "dc0d727c"
      },
      "outputs": [],
      "source": [
        "# 랜덤 값으로 임의의 확률을 지정하는 코드인데... 왜 넣었는지 모르겠음\n",
        "sub_ensemble['Response'] = np.random.beta(1, 1, size=len(ivans_sub))\n",
        "sub_ensemble.to_csv('submission.csv', index=False)"
      ]
    }
  ],
  "metadata": {
    "kaggle": {
      "accelerator": "none",
      "dataSources": [
        {
          "databundleVersionId": 8930475,
          "sourceId": 73291,
          "sourceType": "competition"
        },
        {
          "datasetId": 869050,
          "sourceId": 1480773,
          "sourceType": "datasetVersion"
        },
        {
          "sourceId": 188585469,
          "sourceType": "kernelVersion"
        },
        {
          "sourceId": 189305278,
          "sourceType": "kernelVersion"
        }
      ],
      "dockerImageVersionId": 30746,
      "isGpuEnabled": false,
      "isInternetEnabled": true,
      "language": "python",
      "sourceType": "notebook"
    },
    "kernelspec": {
      "display_name": "Python 3",
      "language": "python",
      "name": "python3"
    },
    "language_info": {
      "codemirror_mode": {
        "name": "ipython",
        "version": 3
      },
      "file_extension": ".py",
      "mimetype": "text/x-python",
      "name": "python",
      "nbconvert_exporter": "python",
      "pygments_lexer": "ipython3",
      "version": "3.10.13"
    },
    "papermill": {
      "default_parameters": {},
      "duration": 135.664801,
      "end_time": "2024-07-23T04:52:44.769617",
      "environment_variables": {},
      "exception": null,
      "input_path": "__notebook__.ipynb",
      "output_path": "__notebook__.ipynb",
      "parameters": {},
      "start_time": "2024-07-23T04:50:29.104816",
      "version": "2.5.0"
    },
    "colab": {
      "provenance": []
    }
  },
  "nbformat": 4,
  "nbformat_minor": 5
}