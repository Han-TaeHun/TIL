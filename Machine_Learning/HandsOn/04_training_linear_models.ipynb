{
  "nbformat": 4,
  "nbformat_minor": 0,
  "metadata": {
    "colab": {
      "provenance": []
    },
    "kernelspec": {
      "name": "python3",
      "display_name": "Python 3"
    },
    "language_info": {
      "name": "python"
    }
  },
  "cells": [
    {
      "cell_type": "code",
      "source": [
        "import sys\n",
        "\n",
        "assert sys.version_info >= (3, 7)"
      ],
      "metadata": {
        "id": "C9NSwnISuH00"
      },
      "execution_count": 1,
      "outputs": []
    },
    {
      "cell_type": "code",
      "source": [
        "from packaging import version\n",
        "import sklearn\n",
        "\n",
        "assert version.parse(sklearn.__version__) >= version.parse(\"1.0.1\")"
      ],
      "metadata": {
        "id": "SF4e8JYWuJdM"
      },
      "execution_count": 2,
      "outputs": []
    },
    {
      "cell_type": "code",
      "source": [
        "import matplotlib.pyplot as plt\n",
        "\n",
        "plt.rc('font', size=14)\n",
        "plt.rc('axes', labelsize=14, titlesize=14)\n",
        "plt.rc('legend', fontsize=14)\n",
        "plt.rc('xtick', labelsize=10)\n",
        "plt.rc('ytick', labelsize=10)"
      ],
      "metadata": {
        "id": "n5LvY51_uLdX"
      },
      "execution_count": 3,
      "outputs": []
    },
    {
      "cell_type": "code",
      "source": [
        "from pathlib import Path\n",
        "\n",
        "IMAGES_PATH = Path() / \"images\" / \"training_linear_models\"\n",
        "IMAGES_PATH.mkdir(parents=True, exist_ok=True)\n",
        "\n",
        "def save_fig(fig_id, tight_layout=True, fig_extension=\"png\", resolution=300):\n",
        "    path = IMAGES_PATH / f\"{fig_id}.{fig_extension}\"\n",
        "    if tight_layout:\n",
        "        plt.tight_layout()\n",
        "    plt.savefig(path, format=fig_extension, dpi=resolution)"
      ],
      "metadata": {
        "id": "dxPiW7HluOE-"
      },
      "execution_count": 4,
      "outputs": []
    },
    {
      "cell_type": "markdown",
      "source": [
        "# 4.1 선형회귀\n",
        "* 정의\n",
        "    - 어떤 데이터가 있을 때, 그 데이터의 관계를 직선으로 그려서 예측하는 방법\n",
        "* 목적\n",
        "    - 선형 회귀의 목적은 주어진 데이터에 가장 잘 맞는 직선을 찾는 것입니다. 이를 위해 우리는 데이터 포인트와 해당 직선 사이의 오차를 최소화하려고 합니다. 가장 일반적으로 사용되는 오차 최소화 방법은 **최소제곱법(Ordinary Least Squares, OLS)**으로, 이는 잔차 제곱합(Residual Sum of Squares, RSS)을 최소화하는 계수들을 찾습니다.\n"
      ],
      "metadata": {
        "id": "RMY5ayc9tNFI"
      }
    },
    {
      "cell_type": "markdown",
      "source": [
        "$$\\hat{y} = \\theta_0 + \\theta_1x_1 + \\theta_2x_2 + ⋅⋅⋅⋅⋅⋅ +\\theta_nx_n$$\n",
        "* $\\hat{y}$은 예측값입니다.\n",
        "* $n$은 특성의 수입니다.\n",
        "* $x_i$는 $i$번째 특성값입니다.\n",
        "* $\\theta_j$는 $j$번째 모델 파라미터입니다(편향$\\theta_0$과 특성의 가중치 $\\theta_1, \\theta_2, \\theta_3, ⋅⋅⋅⋅⋅, \\theta_n$)"
      ],
      "metadata": {
        "id": "iWSMOQ2CuP6T"
      }
    },
    {
      "cell_type": "markdown",
      "source": [
        "위의 식은 벡터 형태로 더 간단히 쓸 수 있다.\n",
        "$$\\hat{y} = h_Θ(X) = Θ \\cdot X$$\n",
        "* $h_Θ$는 모델 파라미터 $Θ$를 사용한 가설 함수입니다.\n",
        "* Θ는 편향 $\\theta_0$과 $\\theta_1$에서 $\\theta_n$까지의 특성 가중치를 담은 모델의 파라미터 벡터입니다.\n",
        "* $X$는 $x_0$에서 $x_n$까지 담은 샘플의 **특성벡터**입니다. $x_0$은 항상 1이다.\n",
        "* $Θ \\cdot X$는 벡터 $\\theta$와 $X$의 점곱입니다. $\\theta_0x_0 + \\theta_1x_1 + \\cdot\\cdot\\cdot\\cdot + \\theta_nx_n$과 같다.\n",
        "    * 점곱은 두 벡터의 대응되는 원소들을 곱한 후 그 합을 구하는 방식으로 계산\n"
      ],
      "metadata": {
        "id": "JZQPPV4wvjg9"
      }
    },
    {
      "cell_type": "markdown",
      "source": [
        "모델을 훈련시킨다는 것은 모델이 훈련 세트에 가장 잘 맞도록 모델 파라미터를 설정하는 것이다.\n",
        "<br>\n",
        "이를 위해 먼저 모델이 훈련 데이터에 얼마나 잘 들어맞는지 측정해야한다.\n",
        "<br>\n",
        "회귀에서 가장 널리 사용되는 성능 측정 지표는 평균 제곱근 오차(RMSE)이다. (2장 내용 참고)\n",
        "<br>\n",
        "선형 회귀 모델을 훈련시키려면 RMSE를 최소화하는 $\\theta$를 찾아야한다.\n",
        "<br>\n",
        "실제로는 RMSE보다 평균 제곱 오차(MSE)를 최소화하는 것이 같은 결과를 내면서 더 간단하다.\n"
      ],
      "metadata": {
        "id": "T9BaMpIsx0_d"
      }
    },
    {
      "cell_type": "markdown",
      "source": [
        "훈련 세트 X데 대한 선형 회귀 가설 $h_\\theta$의 MSE의 식:\n",
        "$$\\text{MSE}(X, h_\\theta) = \\frac {1} {m} \\sum_{i=1}^{m}(Θ^TX^{(i)} - y^{(i)})^2$$\n",
        "\n",
        "2장에서 공부할 때 표기법:\n",
        "$$\\text{MSE}(X, h_\\theta) = \\frac {1} {m} \\sum_{i=1}^{m}(y_i - y^{(i)})^2$$\n",
        "간단히 표기하기 위해서 $MSE(Θ)$라고 쓰겠다."
      ],
      "metadata": {
        "id": "WFAhENsDznpz"
      }
    },
    {
      "cell_type": "markdown",
      "source": [
        "### 4.1.1 정규 방정식\n",
        "* 정의\n",
        "    - 선형 회귀 모델에서 최적의 직선(혹은 평면)을 찾기 위한 간단한 수학 공식입니다. 선형 회귀는 데이터의 관계를 직선으로 표현하는 방법으로, 이 직선의 기울기와 절편을 어떻게 계산할지 결정하는 데 정규 방정식이 사용됩니다."
      ],
      "metadata": {
        "id": "XMfxFnf80ara"
      }
    },
    {
      "cell_type": "markdown",
      "source": [
        "비용 함수를 최소화하는 $\\theta$값을 찾기 위한 **해석적인 방법**이 있다.\n",
        "<br>\n",
        "다른 말로 하면 결과를 바로 얻을 수 있는 수학 공식 이를 **정규 방정식** 이라고 한다.\n",
        "<br>\n",
        "\n",
        "**해석적인 방법**의 공식 == **정규 방정식**:\n",
        "$$\\hat \\theta = (X^TX)^{-1}X^TY$$\n",
        "* $\\hat \\theta$은 비용 함수를 최소화하는 $\\theta$ 값입니다.\n",
        "* $Y$는 $y^{(1)}$부터 $y^{(m)}$까지 포함하는 타깃 벡터입니다."
      ],
      "metadata": {
        "id": "RvFLwn3A0el8"
      }
    },
    {
      "cell_type": "code",
      "execution_count": 6,
      "metadata": {
        "colab": {
          "base_uri": "https://localhost:8080/"
        },
        "id": "nQssCDrPoKC5",
        "outputId": "f732a36b-16ac-4372-ff99-bb93ecd7ace5"
      },
      "outputs": [
        {
          "output_type": "execute_result",
          "data": {
            "text/plain": [
              "array([[4.21509616],\n",
              "       [2.77011339]])"
            ]
          },
          "metadata": {},
          "execution_count": 6
        }
      ],
      "source": [
        "import numpy as np\n",
        "\n",
        "# 선형처럼 보이는 데이터\n",
        "np.random.seed(42)\n",
        "m = 100\n",
        "X = 2 * np.random.rand(m, 1)\n",
        "# 이 데이터를 생성하기 위해 사용한 함수는 y = 4 +3x_1 + 가우스_잡음 이다.\n",
        "y = 4 + 3 * X + np.random.randn(m, 1)\n",
        "\n",
        "# 정규방정식을 사용해 \\hat \\theta를 계산해본다.\n",
        "# 데이터 배열에 더미 특성(dummy feature)을 추가하는 데 사용됩니다.\n",
        "# 더미 특성은 일반적으로 값이 1로 채워진 새로운 열을 의미합니다.\n",
        "# 이 기능은 선형 모델에서 절편(intercept)을 나타내기 위해 유용하게 사용됩니다.\n",
        "from sklearn.preprocessing import add_dummy_feature\n",
        "# 만약 더미 특성을 추가하지 않는다면, 모델은 절편 없이 기울기만 학습하게 되어, 데이터가 원점을 지나야 한다는 부정확한 가정을 하게 됩니다.\n",
        "# 이는 일반적으로 부정확한 모델을 초래할 수 있습니다.\n",
        "X_b = add_dummy_feature(X)\n",
        "theta_best = np.linalg.inv(X_b.T @ X_b) @ X_b.T @ y\n",
        "\n",
        "# @ 연산자는 행렬 곱셉을 수행한다.\n",
        "# 순수 파이썬 배열 = list 에는 사용할 수 없다.\n",
        "\n",
        "theta_best"
      ]
    },
    {
      "cell_type": "code",
      "source": [
        "X_new = np.array([[0], [2]])\n",
        "X_new_b = add_dummy_feature(X_new)\n",
        "X_new_b"
      ],
      "metadata": {
        "colab": {
          "base_uri": "https://localhost:8080/"
        },
        "id": "P9wW-Fp52-dc",
        "outputId": "2100a3e0-d9e3-4d3b-9ebc-c53f58a084f4"
      },
      "execution_count": 7,
      "outputs": [
        {
          "output_type": "execute_result",
          "data": {
            "text/plain": [
              "array([[1., 0.],\n",
              "       [1., 2.]])"
            ]
          },
          "metadata": {},
          "execution_count": 7
        }
      ]
    },
    {
      "cell_type": "code",
      "source": [
        "y_predict = X_new_b @ theta_best\n",
        "y_predict"
      ],
      "metadata": {
        "colab": {
          "base_uri": "https://localhost:8080/"
        },
        "id": "_lCtS4ij4O8b",
        "outputId": "39fd051e-1f3b-4635-db1d-2edd701022df"
      },
      "execution_count": 8,
      "outputs": [
        {
          "output_type": "execute_result",
          "data": {
            "text/plain": [
              "array([[4.21509616],\n",
              "       [9.75532293]])"
            ]
          },
          "metadata": {},
          "execution_count": 8
        }
      ]
    },
    {
      "cell_type": "code",
      "source": [
        "import matplotlib.pyplot as plt\n",
        "\n",
        "plt.figure(figsize=(6, 4))  # 추가 코드\n",
        "plt.plot(X_new, y_predict, \"r-\", label=\"Predictions\")\n",
        "plt.plot(X, y, \"b.\")\n",
        "\n",
        "# 추가 코드 - 그림 4-2를 꾸미고 저장합니다.\n",
        "plt.xlabel(\"$x_1$\")\n",
        "plt.ylabel(\"$y$\", rotation=0)\n",
        "plt.axis([0, 2, 0, 15])\n",
        "plt.grid()\n",
        "plt.legend(loc=\"upper left\")\n",
        "save_fig(\"linear_model_predictions_plot\")\n",
        "\n",
        "plt.show()"
      ],
      "metadata": {
        "colab": {
          "base_uri": "https://localhost:8080/",
          "height": 395
        },
        "id": "rdsvlYEC4VYt",
        "outputId": "1ef09e35-13d8-4098-f02c-b8e23bce324b"
      },
      "execution_count": 9,
      "outputs": [
        {
          "output_type": "display_data",
          "data": {
            "text/plain": [
              "<Figure size 600x400 with 1 Axes>"
            ],
            "image/png": "[encoded data removed]"
          },
          "metadata": {}
        }
      ]
    },
    {
      "cell_type": "code",
      "source": [
        "from sklearn.linear_model import LinearRegression\n",
        "lin_reg = LinearRegression()\n",
        "lin_reg.fit(X, y)\n",
        "#  편향(intercept)과 가중치(coef)\n",
        "lin_reg.intercept_, lin_reg.coef_"
      ],
      "metadata": {
        "colab": {
          "base_uri": "https://localhost:8080/"
        },
        "id": "OJB--OhB46Ei",
        "outputId": "833d56e7-f34a-43ed-9d47-ddcf1365ec79"
      },
      "execution_count": 11,
      "outputs": [
        {
          "output_type": "execute_result",
          "data": {
            "text/plain": [
              "(array([4.21509616]), array([[2.77011339]]))"
            ]
          },
          "metadata": {},
          "execution_count": 11
        }
      ]
    },
    {
      "cell_type": "code",
      "source": [
        "lin_reg.predict(X_new)"
      ],
      "metadata": {
        "colab": {
          "base_uri": "https://localhost:8080/"
        },
        "id": "JT27vy9Y6DwO",
        "outputId": "1832bef6-1955-4f8a-9e74-7de388613a0c"
      },
      "execution_count": 12,
      "outputs": [
        {
          "output_type": "execute_result",
          "data": {
            "text/plain": [
              "array([[4.21509616],\n",
              "       [9.75532293]])"
            ]
          },
          "metadata": {},
          "execution_count": 12
        }
      ]
    },
    {
      "cell_type": "markdown",
      "source": [
        "`LinearRegression` 클래스는 `scipy.linalg.lstsq()` 함수(\"least squares\"의 약자)를 사용하므로 이 함수를 직접 사용할 수 있습니다:"
      ],
      "metadata": {
        "id": "LHMBeEwg6vdX"
      }
    },
    {
      "cell_type": "code",
      "source": [
        "theta_best_svd, residuals, rank, s = np.linalg.lstsq(X_b, y, rcond=1e-6)\n",
        "theta_best_svd"
      ],
      "metadata": {
        "colab": {
          "base_uri": "https://localhost:8080/"
        },
        "id": "ASfadQ4A6IUS",
        "outputId": "bb8de1a4-85d7-4ab3-a9a3-8977648652c9"
      },
      "execution_count": 13,
      "outputs": [
        {
          "output_type": "execute_result",
          "data": {
            "text/plain": [
              "array([[4.21509616],\n",
              "       [2.77011339]])"
            ]
          },
          "metadata": {},
          "execution_count": 13
        }
      ]
    },
    {
      "cell_type": "markdown",
      "source": [
        "이 함수는 $\\mathbf{X}^+\\mathbf{y}$을 계산합니다. $\\mathbf{X}^{+}$는 $\\mathbf{X}$의 _유사역행렬_ (pseudoinverse)입니다(Moore–Penrose 유사역행렬입니다). `np.linalg.pinv()`을 사용해서 유사역행렬을 직접 계산할 수 있습니다:"
      ],
      "metadata": {
        "id": "QB2-8KYg6yYG"
      }
    },
    {
      "cell_type": "code",
      "source": [
        "np.linalg.pinv(X_b) @ y"
      ],
      "metadata": {
        "colab": {
          "base_uri": "https://localhost:8080/"
        },
        "id": "8aomKVND6w9K",
        "outputId": "d88f087e-e6cb-48be-d85d-2e7de1469eec"
      },
      "execution_count": 14,
      "outputs": [
        {
          "output_type": "execute_result",
          "data": {
            "text/plain": [
              "array([[4.21509616],\n",
              "       [2.77011339]])"
            ]
          },
          "metadata": {},
          "execution_count": 14
        }
      ]
    },
    {
      "cell_type": "code",
      "source": [],
      "metadata": {
        "id": "U0SFCLId6zwq"
      },
      "execution_count": null,
      "outputs": []
    }
  ]
}