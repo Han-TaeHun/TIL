{
  "nbformat": 4,
  "nbformat_minor": 0,
  "metadata": {
    "colab": {
      "provenance": []
    },
    "kernelspec": {
      "name": "python3",
      "display_name": "Python 3"
    },
    "language_info": {
      "name": "python"
    }
  },
  "cells": [
    {
      "cell_type": "code",
      "source": [
        "import sys\n",
        "\n",
        "assert sys.version_info >= (3, 7)"
      ],
      "metadata": {
        "id": "C9NSwnISuH00"
      },
      "execution_count": 2,
      "outputs": []
    },
    {
      "cell_type": "code",
      "source": [
        "from packaging import version\n",
        "import sklearn\n",
        "\n",
        "assert version.parse(sklearn.__version__) >= version.parse(\"1.0.1\")"
      ],
      "metadata": {
        "id": "SF4e8JYWuJdM"
      },
      "execution_count": 3,
      "outputs": []
    },
    {
      "cell_type": "code",
      "source": [
        "import matplotlib.pyplot as plt\n",
        "\n",
        "plt.rc('font', size=14)\n",
        "plt.rc('axes', labelsize=14, titlesize=14)\n",
        "plt.rc('legend', fontsize=14)\n",
        "plt.rc('xtick', labelsize=10)\n",
        "plt.rc('ytick', labelsize=10)"
      ],
      "metadata": {
        "id": "n5LvY51_uLdX"
      },
      "execution_count": 4,
      "outputs": []
    },
    {
      "cell_type": "code",
      "source": [
        "from pathlib import Path\n",
        "\n",
        "IMAGES_PATH = Path() / \"images\" / \"training_linear_models\"\n",
        "IMAGES_PATH.mkdir(parents=True, exist_ok=True)\n",
        "\n",
        "def save_fig(fig_id, tight_layout=True, fig_extension=\"png\", resolution=300):\n",
        "    path = IMAGES_PATH / f\"{fig_id}.{fig_extension}\"\n",
        "    if tight_layout:\n",
        "        plt.tight_layout()\n",
        "    plt.savefig(path, format=fig_extension, dpi=resolution)"
      ],
      "metadata": {
        "id": "dxPiW7HluOE-"
      },
      "execution_count": 5,
      "outputs": []
    },
    {
      "cell_type": "markdown",
      "source": [
        "# 4.1 선형회귀\n",
        "* 정의\n",
        "    - 어떤 데이터가 있을 때, 그 데이터의 관계를 직선으로 그려서 예측하는 방법\n",
        "* 목적\n",
        "    - 선형 회귀의 목적은 주어진 데이터에 가장 잘 맞는 직선을 찾는 것입니다. 이를 위해 우리는 데이터 포인트와 해당 직선 사이의 오차를 최소화하려고 합니다. 가장 일반적으로 사용되는 오차 최소화 방법은 **최소제곱법(Ordinary Least Squares, OLS)**으로, 이는 잔차 제곱합(Residual Sum of Squares, RSS)을 최소화하는 계수들을 찾습니다.\n"
      ],
      "metadata": {
        "id": "RMY5ayc9tNFI"
      }
    },
    {
      "cell_type": "markdown",
      "source": [
        "$$\\hat{y} = \\theta_0 + \\theta_1x_1 + \\theta_2x_2 + ⋅⋅⋅⋅⋅⋅ +\\theta_nx_n$$\n",
        "* $\\hat{y}$은 예측값입니다.\n",
        "* $n$은 특성의 수입니다.\n",
        "* $x_i$는 $i$번째 특성값입니다.\n",
        "* $\\theta_j$는 $j$번째 모델 파라미터입니다(편향$\\theta_0$과 특성의 가중치 $\\theta_1, \\theta_2, \\theta_3, ⋅⋅⋅⋅⋅, \\theta_n$)"
      ],
      "metadata": {
        "id": "iWSMOQ2CuP6T"
      }
    },
    {
      "cell_type": "markdown",
      "source": [
        "위의 식은 벡터 형태로 더 간단히 쓸 수 있다.\n",
        "$$\\hat{y} = h_Θ(X) = Θ \\cdot X$$\n",
        "* $h_Θ$는 모델 파라미터 $Θ$를 사용한 가설 함수입니다.\n",
        "* Θ는 편향 $\\theta_0$과 $\\theta_1$에서 $\\theta_n$까지의 특성 가중치를 담은 모델의 파라미터 벡터입니다.\n",
        "* $X$는 $x_0$에서 $x_n$까지 담은 샘플의 **특성벡터**입니다. $x_0$은 항상 1이다.\n",
        "* $Θ \\cdot X$는 벡터 $\\theta$와 $X$의 점곱입니다. $\\theta_0x_0 + \\theta_1x_1 + \\cdot\\cdot\\cdot\\cdot + \\theta_nx_n$과 같다.\n",
        "    * 점곱은 두 벡터의 대응되는 원소들을 곱한 후 그 합을 구하는 방식으로 계산\n"
      ],
      "metadata": {
        "id": "JZQPPV4wvjg9"
      }
    },
    {
      "cell_type": "markdown",
      "source": [
        "모델을 훈련시킨다는 것은 모델이 훈련 세트에 가장 잘 맞도록 모델 파라미터를 설정하는 것이다.\n",
        "<br>\n",
        "이를 위해 먼저 모델이 훈련 데이터에 얼마나 잘 들어맞는지 측정해야한다.\n",
        "<br>\n",
        "회귀에서 가장 널리 사용되는 성능 측정 지표는` 평균 제곱근 오차(RMSE)`이다. (2장 내용 참고)\n",
        "<br>\n",
        "선형 회귀 모델을 훈련시키려면 RMSE를 최소화하는 $\\theta$를 찾아야한다.\n",
        "<br>\n",
        "실제로는 RMSE보다 평균 제곱 오차(MSE)를 최소화하는 것이 같은 결과를 내면서 더 간단하다.\n"
      ],
      "metadata": {
        "id": "T9BaMpIsx0_d"
      }
    },
    {
      "cell_type": "markdown",
      "source": [
        "훈련 세트 X데 대한 선형 회귀 가설 $h_\\theta$의 MSE의 식:\n",
        "$$\\text{MSE}(X, h_\\theta) = \\frac {1} {m} \\sum_{i=1}^{m}(Θ^TX^{(i)} - y^{(i)})^2$$\n",
        "\n",
        "2장에서 공부할 때 표기법:\n",
        "$$\\text{MSE}(X, h_\\theta) = \\frac {1} {m} \\sum_{i=1}^{m}(y_i - y^{(i)})^2$$\n",
        "간단히 표기하기 위해서 $MSE(Θ)$라고 쓰겠다."
      ],
      "metadata": {
        "id": "WFAhENsDznpz"
      }
    },
    {
      "cell_type": "markdown",
      "source": [
        "### 4.1.1 정규 방정식\n",
        "* 정의\n",
        "    - 선형 회귀 모델에서 최적의 직선(혹은 평면)을 찾기 위한 간단한 수학 공식입니다. 선형 회귀는 데이터의 관계를 직선으로 표현하는 방법으로, 이 직선의 기울기와 절편을 어떻게 계산할지 결정하는 데 `정규 방정식`이 사용됩니다."
      ],
      "metadata": {
        "id": "XMfxFnf80ara"
      }
    },
    {
      "cell_type": "markdown",
      "source": [
        "비용 함수를 최소화하는 $\\theta$값을 찾기 위한 **해석적인 방법**이 있다.\n",
        "<br>\n",
        "다른 말로 하면 결과를 바로 얻을 수 있는 수학 공식 이를 **정규 방정식** 이라고 한다.\n",
        "<br>\n",
        "\n",
        "**해석적인 방법**의 공식 == **정규 방정식**:\n",
        "$$\\hat \\theta = (X^TX)^{-1}X^TY$$\n",
        "* $\\hat \\theta$은 비용 함수를 최소화하는 $\\theta$ 값입니다.\n",
        "* $Y$는 $y^{(1)}$부터 $y^{(m)}$까지 포함하는 타깃 벡터입니다."
      ],
      "metadata": {
        "id": "RvFLwn3A0el8"
      }
    },
    {
      "cell_type": "code",
      "execution_count": 6,
      "metadata": {
        "colab": {
          "base_uri": "https://localhost:8080/"
        },
        "id": "nQssCDrPoKC5",
        "outputId": "795ef3cf-e10e-4b51-8876-a53efe957196"
      },
      "outputs": [
        {
          "output_type": "execute_result",
          "data": {
            "text/plain": [
              "array([[4.21509616],\n",
              "       [2.77011339]])"
            ]
          },
          "metadata": {},
          "execution_count": 6
        }
      ],
      "source": [
        "import numpy as np\n",
        "\n",
        "# 선형처럼 보이는 데이터\n",
        "np.random.seed(42)\n",
        "m = 100\n",
        "X = 2 * np.random.rand(m, 1)\n",
        "# 이 데이터를 생성하기 위해 사용한 함수는 y = 4 +3x_1 + 가우스_잡음 이다.\n",
        "y = 4 + 3 * X + np.random.randn(m, 1)\n",
        "\n",
        "# 정규방정식을 사용해 \\hat \\theta를 계산해본다.\n",
        "# 데이터 배열에 더미 특성(dummy feature)을 추가하는 데 사용됩니다.\n",
        "# 더미 특성은 일반적으로 값이 1로 채워진 새로운 열을 의미합니다.\n",
        "# 이 기능은 선형 모델에서 절편(intercept)을 나타내기 위해 유용하게 사용됩니다.\n",
        "from sklearn.preprocessing import add_dummy_feature\n",
        "# 만약 더미 특성을 추가하지 않는다면, 모델은 절편 없이 기울기만 학습하게 되어, 데이터가 원점을 지나야 한다는 부정확한 가정을 하게 됩니다.\n",
        "# 이는 일반적으로 부정확한 모델을 초래할 수 있습니다.\n",
        "X_b = add_dummy_feature(X)\n",
        "theta_best = np.linalg.inv(X_b.T @ X_b) @ X_b.T @ y\n",
        "\n",
        "# @ 연산자는 행렬 곱셉을 수행한다.\n",
        "# 순수 파이썬 배열 = list 에는 사용할 수 없다.\n",
        "\n",
        "theta_best"
      ]
    },
    {
      "cell_type": "code",
      "source": [
        "X_new = np.array([[0], [2]])\n",
        "X_new_b = add_dummy_feature(X_new)\n",
        "X_new_b"
      ],
      "metadata": {
        "colab": {
          "base_uri": "https://localhost:8080/"
        },
        "id": "P9wW-Fp52-dc",
        "outputId": "31e815eb-3b9d-4608-f3e4-bfefbca0a8ba"
      },
      "execution_count": 7,
      "outputs": [
        {
          "output_type": "execute_result",
          "data": {
            "text/plain": [
              "array([[1., 0.],\n",
              "       [1., 2.]])"
            ]
          },
          "metadata": {},
          "execution_count": 7
        }
      ]
    },
    {
      "cell_type": "code",
      "source": [
        "y_predict = X_new_b @ theta_best\n",
        "y_predict"
      ],
      "metadata": {
        "colab": {
          "base_uri": "https://localhost:8080/"
        },
        "id": "_lCtS4ij4O8b",
        "outputId": "7c8cd284-714b-45de-d228-a93117d68e4a"
      },
      "execution_count": 8,
      "outputs": [
        {
          "output_type": "execute_result",
          "data": {
            "text/plain": [
              "array([[4.21509616],\n",
              "       [9.75532293]])"
            ]
          },
          "metadata": {},
          "execution_count": 8
        }
      ]
    },
    {
      "cell_type": "code",
      "source": [
        "import matplotlib.pyplot as plt\n",
        "\n",
        "plt.figure(figsize=(6, 4))  # 추가 코드\n",
        "plt.plot(X_new, y_predict, \"r-\", label=\"Predictions\")\n",
        "plt.plot(X, y, \"b.\")\n",
        "\n",
        "# 추가 코드 - 그림 4-2를 꾸미고 저장합니다.\n",
        "plt.xlabel(\"$x_1$\")\n",
        "plt.ylabel(\"$y$\", rotation=0)\n",
        "plt.axis([0, 2, 0, 15])\n",
        "plt.grid()\n",
        "plt.legend(loc=\"upper left\")\n",
        "save_fig(\"linear_model_predictions_plot\")\n",
        "\n",
        "plt.show()"
      ],
      "metadata": {
        "colab": {
          "base_uri": "https://localhost:8080/",
          "height": 395
        },
        "id": "rdsvlYEC4VYt",
        "outputId": "1ff7fc52-25ae-443c-b4e4-0434cc57b54a"
      },
      "execution_count": 9,
      "outputs": [
        {
          "output_type": "display_data",
          "data": {
            "text/plain": [
              "<Figure size 600x400 with 1 Axes>"
            ],
            "image/png": "[encoded data removed]"
          },
          "metadata": {}
        }
      ]
    },
    {
      "cell_type": "code",
      "source": [
        "from sklearn.linear_model import LinearRegression\n",
        "lin_reg = LinearRegression()\n",
        "lin_reg.fit(X, y)\n",
        "#  편향(intercept)과 가중치(coef)\n",
        "lin_reg.intercept_, lin_reg.coef_"
      ],
      "metadata": {
        "colab": {
          "base_uri": "https://localhost:8080/"
        },
        "id": "OJB--OhB46Ei",
        "outputId": "1754104d-462e-49c4-db48-8c4b77f2369f"
      },
      "execution_count": 10,
      "outputs": [
        {
          "output_type": "execute_result",
          "data": {
            "text/plain": [
              "(array([4.21509616]), array([[2.77011339]]))"
            ]
          },
          "metadata": {},
          "execution_count": 10
        }
      ]
    },
    {
      "cell_type": "code",
      "source": [
        "lin_reg.predict(X_new)"
      ],
      "metadata": {
        "colab": {
          "base_uri": "https://localhost:8080/"
        },
        "id": "JT27vy9Y6DwO",
        "outputId": "9b435a32-f279-4fdc-d0de-1b1ec0e0257f"
      },
      "execution_count": 11,
      "outputs": [
        {
          "output_type": "execute_result",
          "data": {
            "text/plain": [
              "array([[4.21509616],\n",
              "       [9.75532293]])"
            ]
          },
          "metadata": {},
          "execution_count": 11
        }
      ]
    },
    {
      "cell_type": "markdown",
      "source": [
        "`LinearRegression` 클래스는 `scipy.linalg.lstsq()` 함수(\"least squares\"의 약자)를 사용하므로 이 함수를 직접 사용할 수 있습니다:"
      ],
      "metadata": {
        "id": "LHMBeEwg6vdX"
      }
    },
    {
      "cell_type": "code",
      "source": [
        "theta_best_svd, residuals, rank, s = np.linalg.lstsq(X_b, y, rcond=1e-6)\n",
        "theta_best_svd"
      ],
      "metadata": {
        "colab": {
          "base_uri": "https://localhost:8080/"
        },
        "id": "ASfadQ4A6IUS",
        "outputId": "a1c99635-7e32-443d-cab4-b81e5b6038ff"
      },
      "execution_count": 12,
      "outputs": [
        {
          "output_type": "execute_result",
          "data": {
            "text/plain": [
              "array([[4.21509616],\n",
              "       [2.77011339]])"
            ]
          },
          "metadata": {},
          "execution_count": 12
        }
      ]
    },
    {
      "cell_type": "markdown",
      "source": [
        "이 함수는 $\\mathbf{X}^+\\mathbf{y}$을 계산합니다. $\\mathbf{X}^{+}$는 $\\mathbf{X}$의 _유사역행렬_ (pseudoinverse)입니다(Moore–Penrose 유사역행렬입니다). `np.linalg.pinv()`을 사용해서 유사역행렬을 직접 계산할 수 있습니다:"
      ],
      "metadata": {
        "id": "QB2-8KYg6yYG"
      }
    },
    {
      "cell_type": "code",
      "source": [
        "np.linalg.pinv(X_b) @ y"
      ],
      "metadata": {
        "colab": {
          "base_uri": "https://localhost:8080/"
        },
        "id": "8aomKVND6w9K",
        "outputId": "9bc40436-a7ea-4856-c365-92ae558edde4"
      },
      "execution_count": 13,
      "outputs": [
        {
          "output_type": "execute_result",
          "data": {
            "text/plain": [
              "array([[4.21509616],\n",
              "       [2.77011339]])"
            ]
          },
          "metadata": {},
          "execution_count": 13
        }
      ]
    },
    {
      "cell_type": "markdown",
      "source": [
        "## 4.1.2 계산 복잡도\n",
        "- 선형 회귀 모델은 예측이 매우 빠르다\n",
        "- 예측 계산 복잡도는 샘플 수와 특성 수에 선형적\n",
        "    - 즉, 예측하려는 샘플이 2배로 늘어나면 (또는 특성이 2배로 늘어나면) 걸리는 시간도 거의 두배 증가"
      ],
      "metadata": {
        "id": "h2N9AarAHYW4"
      }
    },
    {
      "cell_type": "markdown",
      "source": [
        "# 4.2 경사 하강법\n",
        "- 경사 하강법(Gradient descent)(GD)은 여러 종류의 문제에서 최적의 해법을 찾을 수 있는 일반적인 최적화 알고리즘이다.\n",
        "- 비용 함수를 최소화하기 위해 반복해서 파라미터를 조정하는 것\n"
      ],
      "metadata": {
        "id": "DMknbyfBHggZ"
      }
    },
    {
      "cell_type": "markdown",
      "source": [
        "### 경사하강법의 원리\n"
      ],
      "metadata": {
        "id": "CtbuiUHZOlgg"
      }
    },
    {
      "cell_type": "markdown",
      "source": [
        "\n",
        "- 파라미터 벡터 $\\theta$에 대해 비용함수의 현재 그레이디언트를 계산한다.\n",
        "- 그레이디언트가 감소하는 방향으로 진행\n",
        "- 그레이디언트가 0이 되면 최솟값에 도달한 것이다.<br>\n",
        "    <img width=\"425\" alt=\"homl04-01\" src=\"https://github.com/user-attachments/assets/db8811a6-d774-44d9-8411-ae3dd8888a51\">"
      ],
      "metadata": {
        "id": "eBrBSDBzOr7k"
      }
    },
    {
      "cell_type": "markdown",
      "source": [
        "### 하이퍼 파라미터"
      ],
      "metadata": {
        "id": "D2FKjo2qOoFa"
      }
    },
    {
      "cell_type": "markdown",
      "source": [
        "\n",
        "- 경사하강법에서 중요한 파라미터는 스텝의 크기, `학습률`하이퍼파라미터로 결정된다.\n",
        "    - 너무 작으면 알고리즘이 수렴하기 위해 반복을 많이 진행해서 시간이 오래걸림\n",
        "         <img width=\"425\" alt=\"homl04-02\" src=\"https://github.com/user-attachments/assets/574e25ab-8c2c-47a9-bac8-ee6192a056f3\">\n",
        "    - 너무 크면 골짜기를 가로질러 반대편으로 가서 더 높은 곳으로 가게 된다.\n",
        "        <img width=\"425\" alt=\"homl04-03\" src=\"https://github.com/user-attachments/assets/1db3b5f1-2652-444d-8948-cb8354a2a40d\">\n"
      ],
      "metadata": {
        "id": "NDgkJjS8L5b6"
      }
    },
    {
      "cell_type": "markdown",
      "source": [
        "### 경사 하강법의 문제점\n"
      ],
      "metadata": {
        "id": "x61fGAUGOwWP"
      }
    },
    {
      "cell_type": "markdown",
      "source": [
        "\n",
        "<img width=\"425\" alt=\"homl04-04\" src=\"https://github.com/user-attachments/assets/195ba0c7-a6c6-4687-b082-bf3b604b1563\">\n",
        "\n",
        "<br>\n",
        "\n",
        "- 랜덤 초기화 때문에 알고리즘이 왼쪽에서 시작하면 `전역 최솟값`보다 덜 좋은 `지역 최솟값`에 수렴한다.\n",
        "- 알고리즘이 오른쪽에서 시작하면 평탄한 지역을 지나기 위해 오래 걸리고 일찍 멈추게 되어 전역 최솟값에 도달하지 못함\n"
      ],
      "metadata": {
        "id": "TbWhz7nyNaZ1"
      }
    },
    {
      "cell_type": "markdown",
      "source": [
        "### 특성 스케일의 중요성"
      ],
      "metadata": {
        "id": "u3q-SFqdOfhc"
      }
    },
    {
      "cell_type": "markdown",
      "source": [
        "<img width=\"563\" alt=\"homl04-04a\" src=\"https://github.com/user-attachments/assets/c99e35ba-ee1a-4c27-b596-730869c926d3\">\n",
        "\n",
        "<br>\n",
        "\n",
        "특성들의 스켈일을 통일시키면 보다 빠른 학습이 이루어지는 이유를 아래 그림이 설명한다.\n",
        "\n",
        "- `왼편 그림`: 두 특성의 스케일이 동일하게 조정된 경우엔 비용 함수의 최소값으로 최단거리로 수렴한다. 비용 등고선이 원 모양으로 그려지는 경우를 생각하면 된다.\n",
        "\n",
        "- `오른편 그림`: 두 특성의 스케일이 다른 경우 비용 함수의 최소값으로 보다 먼 거리를 지나간다. 이런 경우엔 비용 등고선이 타원 모양 또는 찌그러진 모양으로 그려지기 때문이다.\n",
        "\n",
        "\n",
        "> 예를 들면, 사이킷런의 `StandardScaler`를 사용하는 것\n",
        "\n"
      ],
      "metadata": {
        "id": "sMtVl4_lOydY"
      }
    },
    {
      "cell_type": "markdown",
      "source": [
        "###4.2.1 배치 경사 하강법"
      ],
      "metadata": {
        "id": "GvjUbbfuPVd5"
      }
    },
    {
      "cell_type": "markdown",
      "source": [
        "\n",
        "$\\theta_j$가 조금 변경될 때 비용 함수가 얼마나 바뀌는지 계산한다.\n",
        "이를 `편도함수` 라고 한다.\n",
        "\n",
        "<br>\n",
        "\n",
        "이 공식은 매 경사 하강법  스텝에서 전체 훈련 세트 X에 대해 계산한다.<br>\n",
        "이런 이류로 매우 큰 훈련 세트에서는 아주 느리다.<br>\n",
        "수십만 개의 특성에서 선형 회귀를 훈련시키려면 정규 방정식이나 SVD 분해보다 경사 하강법을 사용하는 편이 훨씬 빠르다.\n",
        "\n",
        "<br>\n",
        "\n",
        "**식 4-6: 비용 함수의 그레이디언트 벡터**\n",
        "\n",
        "<br>\n",
        "\n",
        "$\n",
        "\\dfrac{\\partial}{\\partial \\boldsymbol{\\theta}} \\text{MSE}(\\boldsymbol{\\theta})\n",
        " = \\dfrac{2}{m} \\mathbf{X}^T (\\mathbf{X} \\boldsymbol{\\theta} - \\mathbf{y})\n",
        "$\n",
        "\n",
        "<br>\n",
        "\n",
        "$\\eta$는 `학습률`이다.<br>\n",
        "**식 4-7: 경사 하강법의 스텝**\n",
        "\n",
        "<br>\n",
        "\n",
        "$\n",
        "\\boldsymbol{\\theta}^{(\\text{next step})} = \\boldsymbol{\\theta} - \\eta \\dfrac{\\partial}{\\partial \\boldsymbol{\\theta}} \\text{MSE}(\\boldsymbol{\\theta})\n",
        "$\n"
      ],
      "metadata": {
        "id": "WwYGB5kcP0ma"
      }
    },
    {
      "cell_type": "code",
      "source": [
        "# 학습률\n",
        "eta = 0.1\n",
        "n_epoch = 1000\n",
        "m = 100\n",
        "\n",
        "np.random.seed(42)\n",
        "# 모델 파라미터를 랜덤하게 초기화 한다.\n",
        "theta = np.random.randn(2, 1)\n",
        "\n",
        "for epoch in range(n_epoch):\n",
        "    gradients = 2/ m * X_b.T @ (X_b @ theta - y)\n",
        "    theta = theta - eta * gradients"
      ],
      "metadata": {
        "id": "gtx6yPbMHiMK"
      },
      "execution_count": 14,
      "outputs": []
    },
    {
      "cell_type": "code",
      "source": [
        "theta"
      ],
      "metadata": {
        "colab": {
          "base_uri": "https://localhost:8080/"
        },
        "id": "9XRH4HhSSUgY",
        "outputId": "5359be8b-41fc-4181-da91-c77ad6492c1a"
      },
      "execution_count": 15,
      "outputs": [
        {
          "output_type": "execute_result",
          "data": {
            "text/plain": [
              "array([[4.21509616],\n",
              "       [2.77011339]])"
            ]
          },
          "metadata": {},
          "execution_count": 15
        }
      ]
    },
    {
      "cell_type": "markdown",
      "source": [
        "\n",
        "$\\eta = 0.02$: 학습률이 너무 작은 경우\n",
        "\n",
        "$\\eta = 0.1$: 학습률이 적절한 경우\n",
        "\n",
        "$\\eta = 0.5$: 학습률이 너무 큰 경우\n",
        "\n",
        "![homl04-04b](https://github.com/user-attachments/assets/05c66d36-e611-4e27-9ea2-d351761f9e34)"
      ],
      "metadata": {
        "id": "qa4SZ2LOS71c"
      }
    },
    {
      "cell_type": "markdown",
      "source": [
        "반복 횟수는 어떻게 지정할까?\n",
        "- 반복 횟수를 아주 크게 지정하고 그레이디언트 벡터가 아주 작아지면, 즉 벡터의 노름이 어떤 값 ϵ(허용오차) 보다 작아지면 경사 하강법이  (거의) 최솟값에 도달한 것이므로 알고리즘을 중지한다."
      ],
      "metadata": {
        "id": "SN56chrxTjSs"
      }
    },
    {
      "cell_type": "markdown",
      "source": [
        "### 4.2.2 확률적 경사 하강법"
      ],
      "metadata": {
        "id": "NQyqrOLoUVGt"
      }
    },
    {
      "cell_type": "markdown",
      "source": [
        "확률적 경사 하강법?\n",
        " - 매 스텝에서 한 개의 샘플을 랜덤으로 선택하고 그 하나의 샘플에 대한 그레이디언트를 계산한다.\n",
        " - 훨씬 빠르다.\n",
        " - 매우 큰 훈련 세트도 훈련시킬 수 있다.\n",
        " - 지역 최솟값을 건너뛰도록 도와준다.\n",
        "<img width=\"383\" alt=\"homl04-04c\" src=\"https://github.com/user-attachments/assets/e1f3cb40-625d-43e8-a67f-14ed06a1ec2f\">\n",
        "<br>\n",
        "\n",
        " 반면\n",
        "  - 배치 경사 하강법보다 훨씬 불안정하다.\n",
        "  - 비용 함수가 최솟값에 다다를 때까지 부드럽게 감소하지 않고 위아래롤 요동치며 평균적으로 감소하기 때문\n",
        "  - 전역 최솟값에 다다르지 못할 수 있다.\n",
        "\n",
        "<br>\n",
        "\n",
        "전역 최솟값에 다다르지 못하는 점을 해결하는 한 가지 방법으로 학습률을 점진적으로 감소시키는 것이다.\n",
        "- 매 반복에서 학습률을 결정하는 함수를 `학습 스케줄` 이라 한다."
      ],
      "metadata": {
        "id": "RcS9PWXzdWTo"
      }
    },
    {
      "cell_type": "code",
      "source": [
        "n_epochs = 50\n",
        "# 학습 스케줄 하이퍼파라미터\n",
        "t0, t1 = 5, 50\n",
        "\n",
        "\n",
        "def learning_schedule(t):\n",
        "    return t0 / (t + t1)\n",
        "\n",
        "np.random.seed(42)\n",
        "theta = np.random.randn(2, 1)\n",
        "\n",
        "for epoch in range(n_epochs):\n",
        "    for iteration in range(m):\n",
        "        random_index = np.random.randint(m)\n",
        "        xi = X_b[random_index: random_index +1]\n",
        "        yi = y[random_index: random_index +1]\n",
        "        gradients = 2 * xi.T @ (xi @ theta - yi)\n",
        "        eta = learning_schedule(epoch * m + iteration)\n",
        "        theta = theta - eta * gradients"
      ],
      "metadata": {
        "id": "AJv9AwPPSjTC"
      },
      "execution_count": 16,
      "outputs": []
    },
    {
      "cell_type": "code",
      "source": [
        "theta"
      ],
      "metadata": {
        "colab": {
          "base_uri": "https://localhost:8080/"
        },
        "id": "Z_KOci6_flo-",
        "outputId": "e0a256ce-5ebb-476c-cb8d-8d17a9368b5b"
      },
      "execution_count": 17,
      "outputs": [
        {
          "output_type": "execute_result",
          "data": {
            "text/plain": [
              "array([[4.21076011],\n",
              "       [2.74856079]])"
            ]
          },
          "metadata": {},
          "execution_count": 17
        }
      ]
    },
    {
      "cell_type": "code",
      "source": [
        "from sklearn.linear_model import SGDRegressor\n",
        "\n",
        "sgd_reg = SGDRegressor(max_iter=1000, tol=1e-5, penalty=None, eta0=0.1, n_iter_no_change=100, random_state=42)\n",
        "\n",
        "sgd_reg.fit(X, y.ravel())"
      ],
      "metadata": {
        "colab": {
          "base_uri": "https://localhost:8080/",
          "height": 92
        },
        "id": "YNZcnJQ9fmyU",
        "outputId": "e0faf5b1-cac0-460b-df89-6c93e1f7fb0e"
      },
      "execution_count": 18,
      "outputs": [
        {
          "output_type": "execute_result",
          "data": {
            "text/plain": [
              "SGDRegressor(eta0=0.1, n_iter_no_change=100, penalty=None, random_state=42,\n",
              "             tol=1e-05)"
            ],
            "text/html": [
              "<style>#sk-container-id-1 {color: black;}#sk-container-id-1 pre{padding: 0;}#sk-container-id-1 div.sk-toggleable {background-color: white;}#sk-container-id-1 label.sk-toggleable__label {cursor: pointer;display: block;width: 100%;margin-bottom: 0;padding: 0.3em;box-sizing: border-box;text-align: center;}#sk-container-id-1 label.sk-toggleable__label-arrow:before {content: \"▸\";float: left;margin-right: 0.25em;color: #696969;}#sk-container-id-1 label.sk-toggleable__label-arrow:hover:before {color: black;}#sk-container-id-1 div.sk-estimator:hover label.sk-toggleable__label-arrow:before {color: black;}#sk-container-id-1 div.sk-toggleable__content {max-height: 0;max-width: 0;overflow: hidden;text-align: left;background-color: #f0f8ff;}#sk-container-id-1 div.sk-toggleable__content pre {margin: 0.2em;color: black;border-radius: 0.25em;background-color: #f0f8ff;}#sk-container-id-1 input.sk-toggleable__control:checked~div.sk-toggleable__content {max-height: 200px;max-width: 100%;overflow: auto;}#sk-container-id-1 input.sk-toggleable__control:checked~label.sk-toggleable__label-arrow:before {content: \"▾\";}#sk-container-id-1 div.sk-estimator input.sk-toggleable__control:checked~label.sk-toggleable__label {background-color: #d4ebff;}#sk-container-id-1 div.sk-label input.sk-toggleable__control:checked~label.sk-toggleable__label {background-color: #d4ebff;}#sk-container-id-1 input.sk-hidden--visually {border: 0;clip: rect(1px 1px 1px 1px);clip: rect(1px, 1px, 1px, 1px);height: 1px;margin: -1px;overflow: hidden;padding: 0;position: absolute;width: 1px;}#sk-container-id-1 div.sk-estimator {font-family: monospace;background-color: #f0f8ff;border: 1px dotted black;border-radius: 0.25em;box-sizing: border-box;margin-bottom: 0.5em;}#sk-container-id-1 div.sk-estimator:hover {background-color: #d4ebff;}#sk-container-id-1 div.sk-parallel-item::after {content: \"\";width: 100%;border-bottom: 1px solid gray;flex-grow: 1;}#sk-container-id-1 div.sk-label:hover label.sk-toggleable__label {background-color: #d4ebff;}#sk-container-id-1 div.sk-serial::before {content: \"\";position: absolute;border-left: 1px solid gray;box-sizing: border-box;top: 0;bottom: 0;left: 50%;z-index: 0;}#sk-container-id-1 div.sk-serial {display: flex;flex-direction: column;align-items: center;background-color: white;padding-right: 0.2em;padding-left: 0.2em;position: relative;}#sk-container-id-1 div.sk-item {position: relative;z-index: 1;}#sk-container-id-1 div.sk-parallel {display: flex;align-items: stretch;justify-content: center;background-color: white;position: relative;}#sk-container-id-1 div.sk-item::before, #sk-container-id-1 div.sk-parallel-item::before {content: \"\";position: absolute;border-left: 1px solid gray;box-sizing: border-box;top: 0;bottom: 0;left: 50%;z-index: -1;}#sk-container-id-1 div.sk-parallel-item {display: flex;flex-direction: column;z-index: 1;position: relative;background-color: white;}#sk-container-id-1 div.sk-parallel-item:first-child::after {align-self: flex-end;width: 50%;}#sk-container-id-1 div.sk-parallel-item:last-child::after {align-self: flex-start;width: 50%;}#sk-container-id-1 div.sk-parallel-item:only-child::after {width: 0;}#sk-container-id-1 div.sk-dashed-wrapped {border: 1px dashed gray;margin: 0 0.4em 0.5em 0.4em;box-sizing: border-box;padding-bottom: 0.4em;background-color: white;}#sk-container-id-1 div.sk-label label {font-family: monospace;font-weight: bold;display: inline-block;line-height: 1.2em;}#sk-container-id-1 div.sk-label-container {text-align: center;}#sk-container-id-1 div.sk-container {/* jupyter's `normalize.less` sets `[hidden] { display: none; }` but bootstrap.min.css set `[hidden] { display: none !important; }` so we also need the `!important` here to be able to override the default hidden behavior on the sphinx rendered scikit-learn.org. See: https://github.com/scikit-learn/scikit-learn/issues/21755 */display: inline-block !important;position: relative;}#sk-container-id-1 div.sk-text-repr-fallback {display: none;}</style><div id=\"sk-container-id-1\" class=\"sk-top-container\"><div class=\"sk-text-repr-fallback\"><pre>SGDRegressor(eta0=0.1, n_iter_no_change=100, penalty=None, random_state=42,\n",
              "             tol=1e-05)</pre><b>In a Jupyter environment, please rerun this cell to show the HTML representation or trust the notebook. <br />On GitHub, the HTML representation is unable to render, please try loading this page with nbviewer.org.</b></div><div class=\"sk-container\" hidden><div class=\"sk-item\"><div class=\"sk-estimator sk-toggleable\"><input class=\"sk-toggleable__control sk-hidden--visually\" id=\"sk-estimator-id-1\" type=\"checkbox\" checked><label for=\"sk-estimator-id-1\" class=\"sk-toggleable__label sk-toggleable__label-arrow\">SGDRegressor</label><div class=\"sk-toggleable__content\"><pre>SGDRegressor(eta0=0.1, n_iter_no_change=100, penalty=None, random_state=42,\n",
              "             tol=1e-05)</pre></div></div></div></div></div>"
            ]
          },
          "metadata": {},
          "execution_count": 18
        }
      ]
    },
    {
      "cell_type": "code",
      "source": [
        "sgd_reg.intercept_, sgd_reg.coef_"
      ],
      "metadata": {
        "colab": {
          "base_uri": "https://localhost:8080/"
        },
        "id": "bu44Se1eg5vO",
        "outputId": "2ae04486-b120-46aa-dc40-5ed32d06061b"
      },
      "execution_count": 19,
      "outputs": [
        {
          "output_type": "execute_result",
          "data": {
            "text/plain": [
              "(array([4.22612746]), array([2.79035392]))"
            ]
          },
          "metadata": {},
          "execution_count": 19
        }
      ]
    },
    {
      "cell_type": "markdown",
      "source": [
        "### 4.2.3 미니배치 경사 하강법"
      ],
      "metadata": {
        "id": "fcgVFX1bhFmZ"
      }
    },
    {
      "cell_type": "markdown",
      "source": [
        "배치 크기($m_b$\n",
        ")를 2 이상으로 잡는 경사하강법이다. 보통 2에서 수백 사이로 정한다. 배치 크기를 적절히 크게 잡으면 확률적 경사하강법(SGD) 보다 파라미터의 움직임이 덜 불규칙적이 되며, 배치 경사하강법보다 훨씬 빠르게 최적 학습 모델에 수렴한다. 다만 SGD에 비해 지역 최소값에 수렴할 위험도가 보다 커질 수 있다. 하지만 대부분의 딥러닝 심층 신경망 모델에서 지원된다."
      ],
      "metadata": {
        "id": "MUV658eYhzer"
      }
    },
    {
      "cell_type": "markdown",
      "source": [
        "세 경사하강법 비교\n",
        "\n",
        "아래 그림은 앞서 배치/확률적/미니 배치 경사하강법을 진행할 때 학습되는 파라미터들의 변화 과정을 보여준다.\n",
        "\n",
        "- 배치 경사하강법 파라미터 변화: 진동없이 최적 파라미터에 수렴. 하지만 훈련 시간이 가장 길고, 큰 훈련셋에서는 적용할 수 없음.\n",
        "\n",
        "- 확률적 경가하강법 파라미터 변화: 진동 심함. 최적 파라미터 근처에서 계속 진동하고 수렴하지 못함. 하지만 학습 시간이 매우 짧아서 대용량 훈련셋에 대해 잘 작동함.\n",
        "\n",
        "- 미니 배치 경사하강법 파라미터 변화: 진동이 상대적으로 약하며 나름 최적 파라미터에 잘 접근함. 학습 스케줄을 이용하여 훈련이 진행될 수록 학습률을 줄이면 최적 파라미터에 가깝게 근접함.\n",
        "\n",
        "\n",
        "![homl04-05](https://github.com/user-attachments/assets/90cef062-8e56-4f10-806f-93b3b85f41fd)\n"
      ],
      "metadata": {
        "id": "pFfjSO5oh6Ck"
      }
    },
    {
      "cell_type": "markdown",
      "source": [
        "# 4.3 다항 회귀"
      ],
      "metadata": {
        "id": "ttpkYPUhh58i"
      }
    },
    {
      "cell_type": "code",
      "source": [
        "np.random.seed(42)\n",
        "m =100\n",
        "X = 6*np.random.rand(m, 1) - 3\n",
        "y =0.5 * X ** 2 + X + 2 + np.random.randn(m, 1)"
      ],
      "metadata": {
        "id": "mFoaPGy3g_T-"
      },
      "execution_count": 20,
      "outputs": []
    },
    {
      "cell_type": "code",
      "source": [
        "# 추가 코드 - 이 셀은 그림 4-12를 생성하고 저장합니다.\n",
        "# 잡음이 생긴 비선형 데이터셋\n",
        "plt.figure(figsize=(6, 4))\n",
        "plt.plot(X, y, \"b.\")\n",
        "plt.xlabel(\"$x_1$\")\n",
        "plt.ylabel(\"$y$\", rotation=0)\n",
        "plt.axis([-3, 3, 0, 10])\n",
        "plt.grid()\n",
        "save_fig(\"quadratic_data_plot\")\n",
        "plt.show()"
      ],
      "metadata": {
        "colab": {
          "base_uri": "https://localhost:8080/",
          "height": 395
        },
        "id": "MWME1h7XZRsP",
        "outputId": "079bd228-80fa-4d38-c06c-da11dbd9bd34"
      },
      "execution_count": 21,
      "outputs": [
        {
          "output_type": "display_data",
          "data": {
            "text/plain": [
              "<Figure size 600x400 with 1 Axes>"
            ],
            "image/png": "[encoded data removed]"
          },
          "metadata": {}
        }
      ]
    },
    {
      "cell_type": "code",
      "source": [
        "from sklearn.preprocessing import PolynomialFeatures\n",
        "poly_features = PolynomialFeatures(degree=2, include_bias=False)\n",
        "X_poly = poly_features.fit_transform(X)\n",
        "X[0]"
      ],
      "metadata": {
        "colab": {
          "base_uri": "https://localhost:8080/"
        },
        "id": "XllkY53tZcdm",
        "outputId": "2f749ca9-f303-45ea-93b5-450b769aef9e"
      },
      "execution_count": 22,
      "outputs": [
        {
          "output_type": "execute_result",
          "data": {
            "text/plain": [
              "array([-0.75275929])"
            ]
          },
          "metadata": {},
          "execution_count": 22
        }
      ]
    },
    {
      "cell_type": "code",
      "source": [
        "X_poly[0]"
      ],
      "metadata": {
        "colab": {
          "base_uri": "https://localhost:8080/"
        },
        "id": "edVCVRyiZ0hX",
        "outputId": "33907931-3fcb-480f-f29f-246e481b7373"
      },
      "execution_count": 23,
      "outputs": [
        {
          "output_type": "execute_result",
          "data": {
            "text/plain": [
              "array([-0.75275929,  0.56664654])"
            ]
          },
          "metadata": {},
          "execution_count": 23
        }
      ]
    },
    {
      "cell_type": "code",
      "source": [
        "lin_reg = LinearRegression()\n",
        "lin_reg.fit(X_poly, y)\n",
        "lin_reg.intercept_, lin_reg.coef_"
      ],
      "metadata": {
        "colab": {
          "base_uri": "https://localhost:8080/"
        },
        "id": "Hn77EWw_Z32C",
        "outputId": "319ddb2c-f682-49c3-ce33-2e3ace65e592"
      },
      "execution_count": 24,
      "outputs": [
        {
          "output_type": "execute_result",
          "data": {
            "text/plain": [
              "(array([1.78134581]), array([[0.93366893, 0.56456263]]))"
            ]
          },
          "metadata": {},
          "execution_count": 24
        }
      ]
    },
    {
      "cell_type": "code",
      "source": [
        "# 추가 코드 - 이 셀은 그림 4-13을 생성하고 저장합니다.\n",
        "# 다항 회귀 예측 모델\n",
        "X_new = np.linspace(-3, 3, 100).reshape(100, 1)\n",
        "X_new_poly = poly_features.transform(X_new)\n",
        "y_new = lin_reg.predict(X_new_poly)\n",
        "\n",
        "plt.figure(figsize=(6, 4))\n",
        "plt.plot(X, y, \"b.\")\n",
        "plt.plot(X_new, y_new, \"r-\", linewidth=2, label=\"Predictions\")\n",
        "plt.xlabel(\"$x_1$\")\n",
        "plt.ylabel(\"$y$\", rotation=0)\n",
        "plt.legend(loc=\"upper left\")\n",
        "plt.axis([-3, 3, 0, 10])\n",
        "plt.grid()\n",
        "save_fig(\"quadratic_predictions_plot\")\n",
        "plt.show()"
      ],
      "metadata": {
        "colab": {
          "base_uri": "https://localhost:8080/",
          "height": 395
        },
        "id": "BbmIyKhXaDRe",
        "outputId": "572186f7-c668-425c-e892-ada620ecb772"
      },
      "execution_count": 25,
      "outputs": [
        {
          "output_type": "display_data",
          "data": {
            "text/plain": [
              "<Figure size 600x400 with 1 Axes>"
            ],
            "image/png": "[encoded data removed]"
          },
          "metadata": {}
        }
      ]
    },
    {
      "cell_type": "markdown",
      "source": [
        "다항 회귀의 단점\n",
        "\n",
        "몇차 다항 회귀를 사용해야 할지 일반적으로 알 수 없다. 또한 심층 신경망처럼 비선형 데이터를 분석하는 보다 좋은 모델이 개발되어 굳이 다항 회귀를 사용할 필요가 없어졌다. 여기서는 비선형 데이터 분석을 선형 회귀 모델로 제대로 예측할 수 없음을 보여주기 위해 언급되었다."
      ],
      "metadata": {
        "id": "M_fH-sa_a-C4"
      }
    },
    {
      "cell_type": "markdown",
      "source": [
        "# 4.4 학습 곡선"
      ],
      "metadata": {
        "id": "y5-_tNDzbBdk"
      }
    },
    {
      "cell_type": "markdown",
      "source": [
        "사용되는 모델에 따라 훈련된 모델의 성능이 많이 다를 수 있다. 아래 그림은 기본 선형 모델은 성능이 너무 좋지 않은 반면에 300차 다항 회귀 모델은 너무 과하게 훈련 데이터에 민감하게 반응하는 것을 보여준다. 반면에 2차 다항 회귀 모델이 적절(?)하게 예측값을 계산하는 것으로 보인다.\n",
        "\n",
        "![image](https://github.com/user-attachments/assets/1b0387af-bab2-40f6-ae11-2dd7c989d465)\n"
      ],
      "metadata": {
        "id": "hUbK38DUduF2"
      }
    },
    {
      "cell_type": "markdown",
      "source": [
        "모델 성능 평가: 교차 검증 vs. 학습 곡선\n",
        "\n",
        "일반적으로 어떤 모델이 가장 좋은지 미리 알 수 없다. 따라서 보통 다양한 모델을 대상으로 교차 검증을 진행하여 성능을 평가한다. 교차 검증 결과에 따른 모델 평가는 다음 두 종류로 나뉜다.\n",
        "\n",
        "- 과소적합: 훈련 점수와 교차 검증 점수 모두 낮은 경우\n",
        "\n",
        "- 과대적합: 훈련 점수는 높지만 교차 검증 점수가 상대적으로 많이 낮은 경우\n",
        "\n",
        "다른 검증 방법은 학습 곡선learning curve을 잘 살펴보는 것이다. 학습 곡선은 훈련셋과 검증 세트에 대한 모델 성능을 비교하는 그래프이며, 학습 곡선의 모양에 따라 과소 적합 또는 과대 적합 여부를 판정할 수 있다.\n",
        "\n",
        "사이킷런의 `learning_curve()` 함수를 이용하여 학습 곡선을 그릴 수 있다.\n",
        "\n",
        "- x 축: 훈련셋 크기. 전체 훈련셋의 1%에서 출발하여 훈련셋 전체를 대상으로 할 때까지 훈련셋의 크기를 키워가며 교차 검증 진행.\n",
        "\n",
        "- y 축: 교차 검증을 통해 확인된 훈련셋 및 검증셋 대상 `RMSE(평균 제곱근 오차)`.\n",
        "\n",
        "과소 적합 모델의 학습 곡선 특징\n",
        "\n",
        "아래 그래프는 2차 다항 함수의 분포를 따르는 데이터셋에 `LinearRegression` 모델을 적용한 학습 곡선을 보여준다.\n",
        "\n",
        "- 훈련셋(빨강)에 대한 성능: 훈련셋이 커지면서 RMSE 증가하지만 훈련셋이 어느 정도 커지면 거의 불변.\n",
        "\n",
        "- 검증셋(파랑)에 대한 성능: 검증 세트에 대한 성능이 훈련셋에 대한 성능과 거의 비슷해짐.\n",
        "\n",
        "![image](https://github.com/user-attachments/assets/0c2f4257-b078-4d85-a4f6-65784157d6f9)"
      ],
      "metadata": {
        "id": "z2H5IPU9eCFE"
      }
    },
    {
      "cell_type": "markdown",
      "source": [
        "과대 적합 모델의 학습 곡선 특징\n",
        "\n",
        "아래 그래프는 2차 다항 함수의 분포를 따르는 데이터셋에 10차 다항회귀 모델을 적용한 학습 곡선을 보여준다.\n",
        "\n",
        "- 훈련셋(빨강)에 대한 성능: 훈련 데이터에 대한 평균 제곱근 오차가 매우 낮음.\n",
        "\n",
        "- 검증셋(파랑)에 대한 성능: 훈련 데이터에 대한 성능과 차이가 어느 정도 이상 벌어짐.\n",
        "\n",
        "\n",
        "![image](https://github.com/user-attachments/assets/6c8c57c0-8b98-4492-a9e0-e307893abc31)"
      ],
      "metadata": {
        "id": "m04VeMSbecqo"
      }
    },
    {
      "cell_type": "markdown",
      "source": [
        "과대 적합 모델 개선법\n",
        "\n",
        "과대 적합 모델을 개선하기 위해 일반적으로 학습 곡선에 사용된 두 그래프가 맞닿을 때까지 훈련 데이터를 추가한다. 하지만 일반적으로 더 많은 훈련 데이터를 구하는 일이 매우 어렵거나 불가능할 수 있기 때문에 일반적으로 모델 규제를 적용한다.\n",
        "\n",
        "모델의 일반화 성능\n",
        "\n",
        "훈련 과정에서 다루지 않은 새로운 데이터 대한 예측 능력이 모델의 일반화 성능이다. 새로운 데이터에 대한 모델의 예측에 나쁜 영향을 미치는 요소는 일반적으로 다음 세 가지가 있다.\n",
        "\n",
        "- 편향: 실제로는 2차원 모델인데 1차원 모델을 사용하는 경우처럼 데이터의 분포에 대한 잘못된 가정으로 인해 발생한다. 과소 적합이 발생할 가능성이 매우 높다.\n",
        "\n",
        "- 분산: 모델이 훈련 데이터에 민감하게 반응하는 정도를 가리킨다. 고차 다항 회귀 모델처럼 모델이 학습해야하는 파라미터의 수가 많을 수록, 즉 모델의 자유도degree of freedom가 높을 수록 분산이 커진다.\n",
        "\n",
        "- 제거 불가능 오류: 잡음(noise) 등 데이터 자체의 한계로 인해 발생한다. 데이터 전처리 과정에서 잡음 등을 제거해야만 오류를 줄일 수 있다.\n",
        "\n",
        "편향-분산 트레이드오프\n",
        "\n",
        "- 복잡한 모델일 수록 편향을 줄어들지만 분산은 커지는 현상을 가리킨다."
      ],
      "metadata": {
        "id": "lddqtWWWelYe"
      }
    },
    {
      "cell_type": "markdown",
      "source": [
        "# 4.5 규제가 있는 선형 모델\n",
        "회귀 모델에 대한 규제regularization는 가중치의 역할을 제한하는 방식으로 이루어지며, 방식에 따라 다음 세 가지 회귀 모델이 지정된다.\n",
        "\n",
        "- 릿지 회귀\n",
        "- 라쏘 회귀\n",
        "- 엘라스틱 넷"
      ],
      "metadata": {
        "id": "X2-dRsJ_exH_"
      }
    },
    {
      "cell_type": "markdown",
      "source": [
        "### 4.5.1 릿지 회귀"
      ],
      "metadata": {
        "id": "oKW9XK2YfOKp"
      }
    },
    {
      "cell_type": "markdown",
      "source": [
        "릿지 회귀의 비용함수:\n",
        "$$J(\\Theta) = MSE(\\Theta) + \\frac {a} {m} \\sum_{i=1}^n θ_i^2$$\n",
        "\n",
        "- $a$: 규제의 강도\n",
        "    - $a = 0$ 일 때 규제가 없다. 선형 회귀와 같아짐\n",
        "    - $a$ 가 커질 수록 가중치의 역할이 줄어듦. 비용을 줄이기 위해 가중치를 작게 유지하도록 훈련되어 결국 모델의 분산 정도가 작아짐.\n",
        "- 편향 $\\theta_0$: 규제에서 제외\n",
        "\n",
        "`StandardScaler` 등을 사용하여 특성 스케일링을 진행 한 다음에 규제를 적용해야 모델의 성능이 좋아진다. 이유는 $\\theta_i$값이 특성의 크기에 의존하기에 모든 특성의 크기를 비슷하게 맞추면 $\\theta_i$가 보다 일정하게 수렴하기 때문이다."
      ],
      "metadata": {
        "id": "5iHTEZggfnG5"
      }
    },
    {
      "cell_type": "markdown",
      "source": [
        "아래 그림은 서로 다른 규제 강도를 사용한 릿지 회귀 모델의 훈련 결과를 보여준다.\n",
        "\n",
        "- 왼편: 선형 회귀 모델에 세 개의\n",
        " 값 적용.\n",
        "- 오른편: 10차 다항 회귀 모델에 세 개의\n",
        " 값 적용.\n",
        "\n",
        "\n",
        "![image](https://github.com/user-attachments/assets/defd5f6c-10a3-419f-8997-47a5d0879991)"
      ],
      "metadata": {
        "id": "u59FBopZhGlR"
      }
    },
    {
      "cell_type": "markdown",
      "source": [
        "### 4.5.2 라쏘 회귀"
      ],
      "metadata": {
        "id": "LDjCbcSTiB7s"
      }
    },
    {
      "cell_type": "markdown",
      "source": [
        "라쏘 회귀의 비용함수:\n",
        "$$J(\\theta) = MSE(\\theta) + 2a \\sum_{t=1}^n|\\theta_i|$$\n",
        "\n",
        "\n",
        "- 왼편: 선형 회귀 모델에 세 개의\n",
        " 값 적용.\n",
        "- 오른편: 10차 다항 회귀 모델에 세 개의\n",
        " 값 적용.\n",
        "\n",
        "![image](https://github.com/user-attachments/assets/59739cd2-0a03-429e-a8d8-5e43f5c5240d)\n",
        "\n"
      ],
      "metadata": {
        "id": "QX1NZ9jmfV8i"
      }
    },
    {
      "cell_type": "code",
      "source": [
        "from sklearn.linear_model import Lasso\n",
        "\n",
        "lasso_reg = Lasso(alpha=0.1)\n",
        "lasso_reg.fit(X, y)\n",
        "lasso_reg.predict([[1.5]])"
      ],
      "metadata": {
        "colab": {
          "base_uri": "https://localhost:8080/"
        },
        "id": "XsdLXA3kfv7c",
        "outputId": "6b92a414-d635-4a66-a426-f6a0f5c12b57"
      },
      "execution_count": 26,
      "outputs": [
        {
          "output_type": "execute_result",
          "data": {
            "text/plain": [
              "array([4.77621741])"
            ]
          },
          "metadata": {},
          "execution_count": 26
        }
      ]
    },
    {
      "cell_type": "markdown",
      "source": [
        "\n",
        "![image](https://github.com/user-attachments/assets/cb3b4db9-19af-4a6b-ab99-7db96861923d)\n"
      ],
      "metadata": {
        "id": "N3WwNSWPiESi"
      }
    },
    {
      "cell_type": "markdown",
      "source": [
        "### 4.5.3 엘라스틱넷"
      ],
      "metadata": {
        "id": "Kxr0PNTliJHK"
      }
    },
    {
      "cell_type": "markdown",
      "source": [
        "- 릿지 회귀와 라쏘 회귀를 절충한 모델\n",
        "- 혼합 정도는 혼합 비율 $r$을 사용해 조절\n",
        "- $r$=0 이면 엘라스틱넷은 릿지 회귀와 같다\n",
        "- $r$=1 이면 엘라스틱넷은 라쏘 회귀와 같다"
      ],
      "metadata": {
        "id": "Gl_k5F-GiNmc"
      }
    },
    {
      "cell_type": "markdown",
      "source": [
        "엘라스틱넷 비용 함수:\n",
        "$$J(\\theta) = MSE(\\theta) + r(2a\\sum_{i=1}^n|\\theta_i|) + (1-r)(\\frac {a} {m}\\sum_{i=1}^n \\theta_i^2)$$"
      ],
      "metadata": {
        "id": "c7ZlGkFoi9xE"
      }
    },
    {
      "cell_type": "markdown",
      "source": [
        "### 규제 선택\n",
        "\n",
        "약간이라도 규제를 사용해야 하며, 일반적으로 릿지 회귀가 추천된다. 반면에 유용하지 않은 속성이 많다고 판단되는 경우엔 라쏘 회귀 또는 엘라스틱 넷이 추천된다. 하지만 특성 수가 훈련 샘플 수보다 많거나 특성 몇 개가 상호 강하게 연관되어 있는 경우엔 엘라스틱 넷을 추천한다."
      ],
      "metadata": {
        "id": "Cn4OVFvii2P1"
      }
    },
    {
      "cell_type": "code",
      "source": [
        "from sklearn.linear_model import ElasticNet\n",
        "\n",
        "elastic_net = ElasticNet(alpha=0.1, l1_ratio=0.5)\n",
        "elastic_net.fit(X, y)\n",
        "elastic_net.predict([[1.5]])"
      ],
      "metadata": {
        "colab": {
          "base_uri": "https://localhost:8080/"
        },
        "id": "CFQJBtQ6iDdL",
        "outputId": "ed919591-e0fa-438a-a820-a5f8552824d6"
      },
      "execution_count": 27,
      "outputs": [
        {
          "output_type": "execute_result",
          "data": {
            "text/plain": [
              "array([4.78114505])"
            ]
          },
          "metadata": {},
          "execution_count": 27
        }
      ]
    },
    {
      "cell_type": "markdown",
      "source": [
        "### 4.5.4 조기 종료"
      ],
      "metadata": {
        "id": "8MCAXdunjcGr"
      }
    },
    {
      "cell_type": "markdown",
      "source": [
        "조기 종료early stopping는 모델이 훈련셋에 과대 적합하는 것을 방지하기 위해 훈련을 적절한 시기에 중단시키는 기법이며, 가장 많이 사용된다. 조기 종료는 검증셋에 대한 비용 함수의 값이 더 이상 줄어들지 않으면 바로 훈련을 종료한다.\n",
        "\n",
        "아래 그래프는 2차 함수 곡선 형식으로 분포된 데이터셋에 90차 다항 회귀 모델을 훈련시킨 결과를 보여준다. 실행된 에포크가 많아질 수록 훈련셋에 대한 모델의 비용(RMSE)이 점차 낮아지는 반면에 검증셋에 대한 비용은 250 에포크 정도 지나면서 늘기 시작한다. 즉, 모델이 훈련셋에 과하게 적응하기 시작했고, 이는 모델의 일반화 성능이 떨어지기 시작함을 의미한다. 따라서 허용된 최대 500 에포크를 훈련하지 않고 250 에포크 정도에서 훈련을 멈추도록 하는 게 조기 종료다.\n",
        "\n",
        "![image](https://github.com/user-attachments/assets/2c22e508-236e-4e6c-a618-28803ee0908e)\n",
        "\n",
        "확률적 경사하강법, 미니 배치 경사하강법에서는 비용함숫값이 보다 많이 진동하기에 비용이 언제 최소가 되었는지 알기 어렵다. 따라서 한동안, 보통 5 에포크 정도, 저장된 비용의 최소값보다 비용 함숫값이 높게 유지될 때 훈련을 멈추고 기억해둔 최적의 파라미터를 사용하는 모델로 되돌린다."
      ],
      "metadata": {
        "id": "Fx0ZZWb-jwOb"
      }
    },
    {
      "cell_type": "markdown",
      "source": [
        "# 4.6 로지스틱 회귀"
      ],
      "metadata": {
        "id": "dZiX0MXukPny"
      }
    },
    {
      "cell_type": "markdown",
      "source": [
        "로지스틱 회귀는 회귀 모델의 결과를 분류 모델로 활용할 수 있도록 해주며 분류 모델에서 가장 중요한 역할을 수행한다. 로지스틱 회귀는 이진 분류에 사용되며, 다중 클래스 분류에는 로지스틱 회귀을 일반화한 소프트맥스 회귀가 사용된다."
      ],
      "metadata": {
        "id": "Rt-w4f3rkdYz"
      }
    },
    {
      "cell_type": "markdown",
      "source": [
        "### 4.6.1 확률 추정"
      ],
      "metadata": {
        "id": "0HLyCd2vkd9B"
      }
    },
    {
      "cell_type": "markdown",
      "source": [
        "로지스틱 회귀 모델의 확률 추정(벡터 표현식):\n",
        "$$\\hat p = h_\\theta(X) = \\sigma(Θ^TX) = \\sigma(\\theta_0 + \\theta_1x_1 + .....+ \\theta_nx_n)$$"
      ],
      "metadata": {
        "id": "C2V-ieZMlAHs"
      }
    },
    {
      "cell_type": "markdown",
      "source": [
        "시그모이드 함수:\n",
        "\n",
        "$$\\sigma(t) = \\frac {1} {1 + e^{-t}}$$\n",
        "\n",
        "![image](https://github.com/user-attachments/assets/32fe395b-6f48-415e-bc19-4de5468dfd25)\n"
      ],
      "metadata": {
        "id": "flX6-gNhlcw1"
      }
    },
    {
      "cell_type": "markdown",
      "source": [
        "로지스틱 회귀 모델 예측:\n",
        "\n",
        "$$y =\n",
        "\\begin{cases}\n",
        "0 & \\hat p \\geq 0.5 \\\\\n",
        "1 & \\hat p \\leq 0.5\n",
        "\\end{cases}$$"
      ],
      "metadata": {
        "id": "EJrfYxmfmDLo"
      }
    },
    {
      "cell_type": "markdown",
      "source": [
        "### 4.6.2 훈련과 비용 함수"
      ],
      "metadata": {
        "id": "gNL4kzV_mbEW"
      }
    },
    {
      "cell_type": "markdown",
      "source": [
        "하나의 훈련 샘플에 대한 비용함수:\n",
        "\n",
        "$$c(\\Theta) =\n",
        "\\begin{cases}\n",
        " -log(\\hat p)  & y=1일 때 \\\\\n",
        " -log(1 - \\hat p) & y=0일 때\n",
        "\\end{cases}$$\n",
        "\n",
        "![image](https://github.com/user-attachments/assets/4027a6f1-58b6-47b2-91d6-6c5d427f37fb)\n"
      ],
      "metadata": {
        "id": "fMHRfB7Omehv"
      }
    },
    {
      "cell_type": "markdown",
      "source": [
        "로지스틱 회귀의 비용 함수 (로그 손실):\n",
        "\n",
        "$$J(\\Theta) = - \\frac {1} {m} \\sum_{i=1}^m [y^{(i)}log(\\hat p^{(i)}) + (1-y^{(i)})log(1-\\hat p^{(i)})]$$"
      ],
      "metadata": {
        "id": "5kslwQo6nyqW"
      }
    },
    {
      "cell_type": "markdown",
      "source": [
        "### 4.6.3 결정 정계"
      ],
      "metadata": {
        "id": "UhTGRdDTpYr5"
      }
    },
    {
      "cell_type": "markdown",
      "source": [
        "붓꽃의 품종 분류를 로지스틱 회귀로 진행한다. 붓꽃 데이터셋의 샘플은 꽃받침sepal의 길이와 너비, 꽃입petal의 길이와 너비 등 총 4개의 특성으로 이루어진다.\n",
        "\n",
        "![image](https://github.com/user-attachments/assets/58ef85a5-2784-48be-b45d-4a954c658b28)\n",
        "![image](https://github.com/user-attachments/assets/484d19ed-5ea1-4d16-8302-6f2309365cd8)\n"
      ],
      "metadata": {
        "id": "AunCv95fpcIJ"
      }
    },
    {
      "cell_type": "code",
      "source": [
        "from sklearn.datasets import load_iris\n",
        "\n",
        "iris = load_iris(as_frame=True)\n",
        "list(iris)"
      ],
      "metadata": {
        "colab": {
          "base_uri": "https://localhost:8080/"
        },
        "id": "tHIempy2fv4w",
        "outputId": "85709475-ed1a-4e69-b0f1-8558822fc5f7"
      },
      "execution_count": 28,
      "outputs": [
        {
          "output_type": "execute_result",
          "data": {
            "text/plain": [
              "['data',\n",
              " 'target',\n",
              " 'frame',\n",
              " 'target_names',\n",
              " 'DESCR',\n",
              " 'feature_names',\n",
              " 'filename',\n",
              " 'data_module']"
            ]
          },
          "metadata": {},
          "execution_count": 28
        }
      ]
    },
    {
      "cell_type": "code",
      "source": [
        "iris.data.head(3)"
      ],
      "metadata": {
        "id": "2IbBVJjreogZ",
        "colab": {
          "base_uri": "https://localhost:8080/",
          "height": 143
        },
        "outputId": "853f78de-f6d6-4b22-9734-7e3750128ac7"
      },
      "execution_count": 29,
      "outputs": [
        {
          "output_type": "execute_result",
          "data": {
            "text/plain": [
              "   sepal length (cm)  sepal width (cm)  petal length (cm)  petal width (cm)\n",
              "0                5.1               3.5                1.4               0.2\n",
              "1                4.9               3.0                1.4               0.2\n",
              "2                4.7               3.2                1.3               0.2"
            ],
            "text/html": [
              "\n",
              "  <div id=\"df-7eb73043-c9d6-442d-9a8b-8e66192d1d07\" class=\"colab-df-container\">\n",
              "    <div>\n",
              "<style scoped>\n",
              "    .dataframe tbody tr th:only-of-type {\n",
              "        vertical-align: middle;\n",
              "    }\n",
              "\n",
              "    .dataframe tbody tr th {\n",
              "        vertical-align: top;\n",
              "    }\n",
              "\n",
              "    .dataframe thead th {\n",
              "        text-align: right;\n",
              "    }\n",
              "</style>\n",
              "<table border=\"1\" class=\"dataframe\">\n",
              "  <thead>\n",
              "    <tr style=\"text-align: right;\">\n",
              "      <th></th>\n",
              "      <th>sepal length (cm)</th>\n",
              "      <th>sepal width (cm)</th>\n",
              "      <th>petal length (cm)</th>\n",
              "      <th>petal width (cm)</th>\n",
              "    </tr>\n",
              "  </thead>\n",
              "  <tbody>\n",
              "    <tr>\n",
              "      <th>0</th>\n",
              "      <td>5.1</td>\n",
              "      <td>3.5</td>\n",
              "      <td>1.4</td>\n",
              "      <td>0.2</td>\n",
              "    </tr>\n",
              "    <tr>\n",
              "      <th>1</th>\n",
              "      <td>4.9</td>\n",
              "      <td>3.0</td>\n",
              "      <td>1.4</td>\n",
              "      <td>0.2</td>\n",
              "    </tr>\n",
              "    <tr>\n",
              "      <th>2</th>\n",
              "      <td>4.7</td>\n",
              "      <td>3.2</td>\n",
              "      <td>1.3</td>\n",
              "      <td>0.2</td>\n",
              "    </tr>\n",
              "  </tbody>\n",
              "</table>\n",
              "</div>\n",
              "    <div class=\"colab-df-buttons\">\n",
              "\n",
              "  <div class=\"colab-df-container\">\n",
              "    <button class=\"colab-df-convert\" onclick=\"convertToInteractive('df-7eb73043-c9d6-442d-9a8b-8e66192d1d07')\"\n",
              "            title=\"Convert this dataframe to an interactive table.\"\n",
              "            style=\"display:none;\">\n",
              "\n",
              "  <svg xmlns=\"http://www.w3.org/2000/svg\" height=\"24px\" viewBox=\"0 -960 960 960\">\n",
              "    <path d=\"M120-120v-720h720v720H120Zm60-500h600v-160H180v160Zm220 220h160v-160H400v160Zm0 220h160v-160H400v160ZM180-400h160v-160H180v160Zm440 0h160v-160H620v160ZM180-180h160v-160H180v160Zm440 0h160v-160H620v160Z\"/>\n",
              "  </svg>\n",
              "    </button>\n",
              "\n",
              "  <style>\n",
              "    .colab-df-container {\n",
              "      display:flex;\n",
              "      gap: 12px;\n",
              "    }\n",
              "\n",
              "    .colab-df-convert {\n",
              "      background-color: #E8F0FE;\n",
              "      border: none;\n",
              "      border-radius: 50%;\n",
              "      cursor: pointer;\n",
              "      display: none;\n",
              "      fill: #1967D2;\n",
              "      height: 32px;\n",
              "      padding: 0 0 0 0;\n",
              "      width: 32px;\n",
              "    }\n",
              "\n",
              "    .colab-df-convert:hover {\n",
              "      background-color: #E2EBFA;\n",
              "      box-shadow: 0px 1px 2px rgba(60, 64, 67, 0.3), 0px 1px 3px 1px rgba(60, 64, 67, 0.15);\n",
              "      fill: #174EA6;\n",
              "    }\n",
              "\n",
              "    .colab-df-buttons div {\n",
              "      margin-bottom: 4px;\n",
              "    }\n",
              "\n",
              "    [theme=dark] .colab-df-convert {\n",
              "      background-color: #3B4455;\n",
              "      fill: #D2E3FC;\n",
              "    }\n",
              "\n",
              "    [theme=dark] .colab-df-convert:hover {\n",
              "      background-color: #434B5C;\n",
              "      box-shadow: 0px 1px 3px 1px rgba(0, 0, 0, 0.15);\n",
              "      filter: drop-shadow(0px 1px 2px rgba(0, 0, 0, 0.3));\n",
              "      fill: #FFFFFF;\n",
              "    }\n",
              "  </style>\n",
              "\n",
              "    <script>\n",
              "      const buttonEl =\n",
              "        document.querySelector('#df-7eb73043-c9d6-442d-9a8b-8e66192d1d07 button.colab-df-convert');\n",
              "      buttonEl.style.display =\n",
              "        google.colab.kernel.accessAllowed ? 'block' : 'none';\n",
              "\n",
              "      async function convertToInteractive(key) {\n",
              "        const element = document.querySelector('#df-7eb73043-c9d6-442d-9a8b-8e66192d1d07');\n",
              "        const dataTable =\n",
              "          await google.colab.kernel.invokeFunction('convertToInteractive',\n",
              "                                                    [key], {});\n",
              "        if (!dataTable) return;\n",
              "\n",
              "        const docLinkHtml = 'Like what you see? Visit the ' +\n",
              "          '<a target=\"_blank\" href=https://colab.research.google.com/notebooks/data_table.ipynb>data table notebook</a>'\n",
              "          + ' to learn more about interactive tables.';\n",
              "        element.innerHTML = '';\n",
              "        dataTable['output_type'] = 'display_data';\n",
              "        await google.colab.output.renderOutput(dataTable, element);\n",
              "        const docLink = document.createElement('div');\n",
              "        docLink.innerHTML = docLinkHtml;\n",
              "        element.appendChild(docLink);\n",
              "      }\n",
              "    </script>\n",
              "  </div>\n",
              "\n",
              "\n",
              "<div id=\"df-f6f08061-3f20-498b-8fb1-e1817ae43d6d\">\n",
              "  <button class=\"colab-df-quickchart\" onclick=\"quickchart('df-f6f08061-3f20-498b-8fb1-e1817ae43d6d')\"\n",
              "            title=\"Suggest charts\"\n",
              "            style=\"display:none;\">\n",
              "\n",
              "<svg xmlns=\"http://www.w3.org/2000/svg\" height=\"24px\"viewBox=\"0 0 24 24\"\n",
              "     width=\"24px\">\n",
              "    <g>\n",
              "        <path d=\"M19 3H5c-1.1 0-2 .9-2 2v14c0 1.1.9 2 2 2h14c1.1 0 2-.9 2-2V5c0-1.1-.9-2-2-2zM9 17H7v-7h2v7zm4 0h-2V7h2v10zm4 0h-2v-4h2v4z\"/>\n",
              "    </g>\n",
              "</svg>\n",
              "  </button>\n",
              "\n",
              "<style>\n",
              "  .colab-df-quickchart {\n",
              "      --bg-color: #E8F0FE;\n",
              "      --fill-color: #1967D2;\n",
              "      --hover-bg-color: #E2EBFA;\n",
              "      --hover-fill-color: #174EA6;\n",
              "      --disabled-fill-color: #AAA;\n",
              "      --disabled-bg-color: #DDD;\n",
              "  }\n",
              "\n",
              "  [theme=dark] .colab-df-quickchart {\n",
              "      --bg-color: #3B4455;\n",
              "      --fill-color: #D2E3FC;\n",
              "      --hover-bg-color: #434B5C;\n",
              "      --hover-fill-color: #FFFFFF;\n",
              "      --disabled-bg-color: #3B4455;\n",
              "      --disabled-fill-color: #666;\n",
              "  }\n",
              "\n",
              "  .colab-df-quickchart {\n",
              "    background-color: var(--bg-color);\n",
              "    border: none;\n",
              "    border-radius: 50%;\n",
              "    cursor: pointer;\n",
              "    display: none;\n",
              "    fill: var(--fill-color);\n",
              "    height: 32px;\n",
              "    padding: 0;\n",
              "    width: 32px;\n",
              "  }\n",
              "\n",
              "  .colab-df-quickchart:hover {\n",
              "    background-color: var(--hover-bg-color);\n",
              "    box-shadow: 0 1px 2px rgba(60, 64, 67, 0.3), 0 1px 3px 1px rgba(60, 64, 67, 0.15);\n",
              "    fill: var(--button-hover-fill-color);\n",
              "  }\n",
              "\n",
              "  .colab-df-quickchart-complete:disabled,\n",
              "  .colab-df-quickchart-complete:disabled:hover {\n",
              "    background-color: var(--disabled-bg-color);\n",
              "    fill: var(--disabled-fill-color);\n",
              "    box-shadow: none;\n",
              "  }\n",
              "\n",
              "  .colab-df-spinner {\n",
              "    border: 2px solid var(--fill-color);\n",
              "    border-color: transparent;\n",
              "    border-bottom-color: var(--fill-color);\n",
              "    animation:\n",
              "      spin 1s steps(1) infinite;\n",
              "  }\n",
              "\n",
              "  @keyframes spin {\n",
              "    0% {\n",
              "      border-color: transparent;\n",
              "      border-bottom-color: var(--fill-color);\n",
              "      border-left-color: var(--fill-color);\n",
              "    }\n",
              "    20% {\n",
              "      border-color: transparent;\n",
              "      border-left-color: var(--fill-color);\n",
              "      border-top-color: var(--fill-color);\n",
              "    }\n",
              "    30% {\n",
              "      border-color: transparent;\n",
              "      border-left-color: var(--fill-color);\n",
              "      border-top-color: var(--fill-color);\n",
              "      border-right-color: var(--fill-color);\n",
              "    }\n",
              "    40% {\n",
              "      border-color: transparent;\n",
              "      border-right-color: var(--fill-color);\n",
              "      border-top-color: var(--fill-color);\n",
              "    }\n",
              "    60% {\n",
              "      border-color: transparent;\n",
              "      border-right-color: var(--fill-color);\n",
              "    }\n",
              "    80% {\n",
              "      border-color: transparent;\n",
              "      border-right-color: var(--fill-color);\n",
              "      border-bottom-color: var(--fill-color);\n",
              "    }\n",
              "    90% {\n",
              "      border-color: transparent;\n",
              "      border-bottom-color: var(--fill-color);\n",
              "    }\n",
              "  }\n",
              "</style>\n",
              "\n",
              "  <script>\n",
              "    async function quickchart(key) {\n",
              "      const quickchartButtonEl =\n",
              "        document.querySelector('#' + key + ' button');\n",
              "      quickchartButtonEl.disabled = true;  // To prevent multiple clicks.\n",
              "      quickchartButtonEl.classList.add('colab-df-spinner');\n",
              "      try {\n",
              "        const charts = await google.colab.kernel.invokeFunction(\n",
              "            'suggestCharts', [key], {});\n",
              "      } catch (error) {\n",
              "        console.error('Error during call to suggestCharts:', error);\n",
              "      }\n",
              "      quickchartButtonEl.classList.remove('colab-df-spinner');\n",
              "      quickchartButtonEl.classList.add('colab-df-quickchart-complete');\n",
              "    }\n",
              "    (() => {\n",
              "      let quickchartButtonEl =\n",
              "        document.querySelector('#df-f6f08061-3f20-498b-8fb1-e1817ae43d6d button');\n",
              "      quickchartButtonEl.style.display =\n",
              "        google.colab.kernel.accessAllowed ? 'block' : 'none';\n",
              "    })();\n",
              "  </script>\n",
              "</div>\n",
              "\n",
              "    </div>\n",
              "  </div>\n"
            ],
            "application/vnd.google.colaboratory.intrinsic+json": {
              "type": "dataframe",
              "summary": "{\n  \"name\": \"iris\",\n  \"rows\": 3,\n  \"fields\": [\n    {\n      \"column\": \"sepal length (cm)\",\n      \"properties\": {\n        \"dtype\": \"number\",\n        \"std\": 0.19999999999999973,\n        \"min\": 4.7,\n        \"max\": 5.1,\n        \"num_unique_values\": 3,\n        \"samples\": [\n          5.1,\n          4.9,\n          4.7\n        ],\n        \"semantic_type\": \"\",\n        \"description\": \"\"\n      }\n    },\n    {\n      \"column\": \"sepal width (cm)\",\n      \"properties\": {\n        \"dtype\": \"number\",\n        \"std\": 0.2516611478423583,\n        \"min\": 3.0,\n        \"max\": 3.5,\n        \"num_unique_values\": 3,\n        \"samples\": [\n          3.5,\n          3.0,\n          3.2\n        ],\n        \"semantic_type\": \"\",\n        \"description\": \"\"\n      }\n    },\n    {\n      \"column\": \"petal length (cm)\",\n      \"properties\": {\n        \"dtype\": \"number\",\n        \"std\": 0.0577350269189625,\n        \"min\": 1.3,\n        \"max\": 1.4,\n        \"num_unique_values\": 2,\n        \"samples\": [\n          1.3,\n          1.4\n        ],\n        \"semantic_type\": \"\",\n        \"description\": \"\"\n      }\n    },\n    {\n      \"column\": \"petal width (cm)\",\n      \"properties\": {\n        \"dtype\": \"number\",\n        \"std\": 3.3993498887762956e-17,\n        \"min\": 0.2,\n        \"max\": 0.2,\n        \"num_unique_values\": 1,\n        \"samples\": [\n          0.2\n        ],\n        \"semantic_type\": \"\",\n        \"description\": \"\"\n      }\n    }\n  ]\n}"
            }
          },
          "metadata": {},
          "execution_count": 29
        }
      ]
    },
    {
      "cell_type": "code",
      "source": [
        "iris.target.head(3)  # 샘플이 섞여 있지 않습니다."
      ],
      "metadata": {
        "colab": {
          "base_uri": "https://localhost:8080/",
          "height": 178
        },
        "id": "X_UPH5l_qxAk",
        "outputId": "e39d2a76-4381-445e-f0cc-f39d3aefac77"
      },
      "execution_count": 30,
      "outputs": [
        {
          "output_type": "execute_result",
          "data": {
            "text/plain": [
              "0    0\n",
              "1    0\n",
              "2    0\n",
              "Name: target, dtype: int64"
            ],
            "text/html": [
              "<div>\n",
              "<style scoped>\n",
              "    .dataframe tbody tr th:only-of-type {\n",
              "        vertical-align: middle;\n",
              "    }\n",
              "\n",
              "    .dataframe tbody tr th {\n",
              "        vertical-align: top;\n",
              "    }\n",
              "\n",
              "    .dataframe thead th {\n",
              "        text-align: right;\n",
              "    }\n",
              "</style>\n",
              "<table border=\"1\" class=\"dataframe\">\n",
              "  <thead>\n",
              "    <tr style=\"text-align: right;\">\n",
              "      <th></th>\n",
              "      <th>target</th>\n",
              "    </tr>\n",
              "  </thead>\n",
              "  <tbody>\n",
              "    <tr>\n",
              "      <th>0</th>\n",
              "      <td>0</td>\n",
              "    </tr>\n",
              "    <tr>\n",
              "      <th>1</th>\n",
              "      <td>0</td>\n",
              "    </tr>\n",
              "    <tr>\n",
              "      <th>2</th>\n",
              "      <td>0</td>\n",
              "    </tr>\n",
              "  </tbody>\n",
              "</table>\n",
              "</div><br><label><b>dtype:</b> int64</label>"
            ]
          },
          "metadata": {},
          "execution_count": 30
        }
      ]
    },
    {
      "cell_type": "code",
      "source": [
        "iris.target_names"
      ],
      "metadata": {
        "colab": {
          "base_uri": "https://localhost:8080/"
        },
        "id": "AUGQbIYPqw-u",
        "outputId": "e3c31465-fe96-4064-95aa-93a4b2d486d0"
      },
      "execution_count": 31,
      "outputs": [
        {
          "output_type": "execute_result",
          "data": {
            "text/plain": [
              "array(['setosa', 'versicolor', 'virginica'], dtype='<U10')"
            ]
          },
          "metadata": {},
          "execution_count": 31
        }
      ]
    },
    {
      "cell_type": "code",
      "source": [
        "from sklearn.linear_model import LogisticRegression\n",
        "from sklearn.model_selection import train_test_split\n",
        "\n",
        "X = iris.data[[\"petal width (cm)\"]].values\n",
        "y = iris.target_names[iris.target] == 'virginica'\n",
        "X_train, X_test, y_train, y_test = train_test_split(X, y, random_state=42)\n",
        "\n",
        "log_reg = LogisticRegression(random_state=42)\n",
        "log_reg.fit(X_train, y_train)"
      ],
      "metadata": {
        "colab": {
          "base_uri": "https://localhost:8080/",
          "height": 74
        },
        "id": "Thk0G0f9qw7W",
        "outputId": "3894e25c-e2dd-4523-adb0-d0c994c7eaea"
      },
      "execution_count": 32,
      "outputs": [
        {
          "output_type": "execute_result",
          "data": {
            "text/plain": [
              "LogisticRegression(random_state=42)"
            ],
            "text/html": [
              "<style>#sk-container-id-2 {color: black;}#sk-container-id-2 pre{padding: 0;}#sk-container-id-2 div.sk-toggleable {background-color: white;}#sk-container-id-2 label.sk-toggleable__label {cursor: pointer;display: block;width: 100%;margin-bottom: 0;padding: 0.3em;box-sizing: border-box;text-align: center;}#sk-container-id-2 label.sk-toggleable__label-arrow:before {content: \"▸\";float: left;margin-right: 0.25em;color: #696969;}#sk-container-id-2 label.sk-toggleable__label-arrow:hover:before {color: black;}#sk-container-id-2 div.sk-estimator:hover label.sk-toggleable__label-arrow:before {color: black;}#sk-container-id-2 div.sk-toggleable__content {max-height: 0;max-width: 0;overflow: hidden;text-align: left;background-color: #f0f8ff;}#sk-container-id-2 div.sk-toggleable__content pre {margin: 0.2em;color: black;border-radius: 0.25em;background-color: #f0f8ff;}#sk-container-id-2 input.sk-toggleable__control:checked~div.sk-toggleable__content {max-height: 200px;max-width: 100%;overflow: auto;}#sk-container-id-2 input.sk-toggleable__control:checked~label.sk-toggleable__label-arrow:before {content: \"▾\";}#sk-container-id-2 div.sk-estimator input.sk-toggleable__control:checked~label.sk-toggleable__label {background-color: #d4ebff;}#sk-container-id-2 div.sk-label input.sk-toggleable__control:checked~label.sk-toggleable__label {background-color: #d4ebff;}#sk-container-id-2 input.sk-hidden--visually {border: 0;clip: rect(1px 1px 1px 1px);clip: rect(1px, 1px, 1px, 1px);height: 1px;margin: -1px;overflow: hidden;padding: 0;position: absolute;width: 1px;}#sk-container-id-2 div.sk-estimator {font-family: monospace;background-color: #f0f8ff;border: 1px dotted black;border-radius: 0.25em;box-sizing: border-box;margin-bottom: 0.5em;}#sk-container-id-2 div.sk-estimator:hover {background-color: #d4ebff;}#sk-container-id-2 div.sk-parallel-item::after {content: \"\";width: 100%;border-bottom: 1px solid gray;flex-grow: 1;}#sk-container-id-2 div.sk-label:hover label.sk-toggleable__label {background-color: #d4ebff;}#sk-container-id-2 div.sk-serial::before {content: \"\";position: absolute;border-left: 1px solid gray;box-sizing: border-box;top: 0;bottom: 0;left: 50%;z-index: 0;}#sk-container-id-2 div.sk-serial {display: flex;flex-direction: column;align-items: center;background-color: white;padding-right: 0.2em;padding-left: 0.2em;position: relative;}#sk-container-id-2 div.sk-item {position: relative;z-index: 1;}#sk-container-id-2 div.sk-parallel {display: flex;align-items: stretch;justify-content: center;background-color: white;position: relative;}#sk-container-id-2 div.sk-item::before, #sk-container-id-2 div.sk-parallel-item::before {content: \"\";position: absolute;border-left: 1px solid gray;box-sizing: border-box;top: 0;bottom: 0;left: 50%;z-index: -1;}#sk-container-id-2 div.sk-parallel-item {display: flex;flex-direction: column;z-index: 1;position: relative;background-color: white;}#sk-container-id-2 div.sk-parallel-item:first-child::after {align-self: flex-end;width: 50%;}#sk-container-id-2 div.sk-parallel-item:last-child::after {align-self: flex-start;width: 50%;}#sk-container-id-2 div.sk-parallel-item:only-child::after {width: 0;}#sk-container-id-2 div.sk-dashed-wrapped {border: 1px dashed gray;margin: 0 0.4em 0.5em 0.4em;box-sizing: border-box;padding-bottom: 0.4em;background-color: white;}#sk-container-id-2 div.sk-label label {font-family: monospace;font-weight: bold;display: inline-block;line-height: 1.2em;}#sk-container-id-2 div.sk-label-container {text-align: center;}#sk-container-id-2 div.sk-container {/* jupyter's `normalize.less` sets `[hidden] { display: none; }` but bootstrap.min.css set `[hidden] { display: none !important; }` so we also need the `!important` here to be able to override the default hidden behavior on the sphinx rendered scikit-learn.org. See: https://github.com/scikit-learn/scikit-learn/issues/21755 */display: inline-block !important;position: relative;}#sk-container-id-2 div.sk-text-repr-fallback {display: none;}</style><div id=\"sk-container-id-2\" class=\"sk-top-container\"><div class=\"sk-text-repr-fallback\"><pre>LogisticRegression(random_state=42)</pre><b>In a Jupyter environment, please rerun this cell to show the HTML representation or trust the notebook. <br />On GitHub, the HTML representation is unable to render, please try loading this page with nbviewer.org.</b></div><div class=\"sk-container\" hidden><div class=\"sk-item\"><div class=\"sk-estimator sk-toggleable\"><input class=\"sk-toggleable__control sk-hidden--visually\" id=\"sk-estimator-id-2\" type=\"checkbox\" checked><label for=\"sk-estimator-id-2\" class=\"sk-toggleable__label sk-toggleable__label-arrow\">LogisticRegression</label><div class=\"sk-toggleable__content\"><pre>LogisticRegression(random_state=42)</pre></div></div></div></div></div>"
            ]
          },
          "metadata": {},
          "execution_count": 32
        }
      ]
    },
    {
      "cell_type": "code",
      "source": [
        "X_new = np.linspace(0, 3, 1000).reshape(-1, 1)  # 크기를 바꾸어 열 벡터를 얻습니다.\n",
        "y_proba = log_reg.predict_proba(X_new)\n",
        "decision_boundary = X_new[y_proba[:, 1] >= 0.5][0, 0]\n",
        "\n",
        "plt.figure(figsize=(8, 3))  # 추가 코드\n",
        "plt.plot(X_new, y_proba[:, 0], \"b--\", linewidth=2,\n",
        "         label=\"Not Iris virginica proba\")\n",
        "plt.plot(X_new, y_proba[:, 1], \"g-\", linewidth=2, label=\"Iris virginica proba\")\n",
        "plt.plot([decision_boundary, decision_boundary], [0, 1], \"k:\", linewidth=2,\n",
        "         label=\"Decision boundary\")\n",
        "\n",
        "# 추가 코드 - 이 섹션에서는 그림 4-23을 꾸미고 저장합니다.\n",
        "plt.arrow(x=decision_boundary, y=0.08, dx=-0.3, dy=0,\n",
        "          head_width=0.05, head_length=0.1, fc=\"b\", ec=\"b\")\n",
        "plt.arrow(x=decision_boundary, y=0.92, dx=0.3, dy=0,\n",
        "          head_width=0.05, head_length=0.1, fc=\"g\", ec=\"g\")\n",
        "plt.plot(X_train[y_train == 0], y_train[y_train == 0], \"bs\")\n",
        "plt.plot(X_train[y_train == 1], y_train[y_train == 1], \"g^\")\n",
        "plt.xlabel(\"Petal width (cm)\")\n",
        "plt.ylabel(\"Probability\")\n",
        "plt.legend(loc=\"center left\")\n",
        "plt.axis([0, 3, -0.02, 1.02])\n",
        "plt.grid()\n",
        "save_fig(\"logistic_regression_plot\")\n",
        "\n",
        "plt.show()"
      ],
      "metadata": {
        "colab": {
          "base_uri": "https://localhost:8080/",
          "height": 290
        },
        "id": "yRuHG09iqw50",
        "outputId": "6b54461c-7080-4271-89f9-5e687711e46d"
      },
      "execution_count": 33,
      "outputs": [
        {
          "output_type": "display_data",
          "data": {
            "text/plain": [
              "<Figure size 800x300 with 1 Axes>"
            ],
            "image/png": "[encoded data removed]"
          },
          "metadata": {}
        }
      ]
    },
    {
      "cell_type": "code",
      "source": [
        "decision_boundary"
      ],
      "metadata": {
        "colab": {
          "base_uri": "https://localhost:8080/"
        },
        "id": "6Mx5xA-uqw2u",
        "outputId": "54afb5d9-ed05-4e19-e0e0-3ecf870b5b7e"
      },
      "execution_count": 34,
      "outputs": [
        {
          "output_type": "execute_result",
          "data": {
            "text/plain": [
              "1.6516516516516517"
            ]
          },
          "metadata": {},
          "execution_count": 34
        }
      ]
    },
    {
      "cell_type": "code",
      "source": [
        "log_reg.predict([[1.7], [1.5]])"
      ],
      "metadata": {
        "colab": {
          "base_uri": "https://localhost:8080/"
        },
        "id": "41ARl6uCqwzj",
        "outputId": "662e259c-68b1-4a1f-a059-268bdffb9c9e"
      },
      "execution_count": 35,
      "outputs": [
        {
          "output_type": "execute_result",
          "data": {
            "text/plain": [
              "array([ True, False])"
            ]
          },
          "metadata": {},
          "execution_count": 35
        }
      ]
    },
    {
      "cell_type": "markdown",
      "source": [
        "로지스틱 회귀 모델 규제\n",
        "\n",
        "LogisticRegression 모델의 하이퍼파라미터 penalty 와 C 를 이용하여 규제와 규제의 강도를 지정한다.\n",
        "\n",
        "- penalty: l1 벌점 (라쏘 회귀), l2 벌점(릿지 회귀), elasticnet(엘라스틱 넷) 방식 중 하나 선택하며, 기본값은 l2 벌점이다. 즉, 릿지 회귀를 기본 회귀 모델로 사용한다.\n",
        "\n",
        "- C: solver로 지정되는 알고리즘에 따라 릿지 회귀 또는 라쏘 회귀 모델에 사용되는\n",
        " 값의 역수에 해당한다. 따라서 0에 가까울 수록 강한 규제를 의미한다. 기본값은 1이다.\n",
        "\n",
        "아래 그림의 검정 파선은 꽃잎의 너비와 길이 두 속성을 이용했을 때 버지니카 품종의 여부를 결정하는 결정 경계를 나타낸다. 반면에 다양한 색상의 직선은 버지니카 품종일 가능성(확률)을 보여주는 영역을 구분한다.\n",
        "\n",
        "![image](https://github.com/user-attachments/assets/ce3a370f-ed54-4176-a3ec-bb73f8f97447)"
      ],
      "metadata": {
        "id": "yWj2kzrPrHtL"
      }
    },
    {
      "cell_type": "markdown",
      "source": [
        "### 4.6.3 소프트맥스 회귀"
      ],
      "metadata": {
        "id": "InowTFZdrU88"
      }
    },
    {
      "cell_type": "markdown",
      "source": [
        "로지스틱 회귀 모델을 일반화하여 다중 클래스 분류를 지원하도록 만든 모델이 소프트맥스 회귀Softmax regression다."
      ],
      "metadata": {
        "id": "YIjuaz_QecVK"
      }
    },
    {
      "cell_type": "markdown",
      "source": [
        "클래스 k에 대한 소프트맥스 점수:\n",
        "\n",
        "$$s_k (X) = (\\theta^{(k)})^TX$$\n",
        "\n",
        "![image](https://github.com/user-attachments/assets/1358b4e3-e1a1-4e61-a07a-82fbf8629fd2)\n"
      ],
      "metadata": {
        "id": "5PILwkLVeyxh"
      }
    },
    {
      "cell_type": "markdown",
      "source": [
        "소프트맥스 함수:\n",
        "\n",
        "$$\\hat p = \\sigma(S(X))_k = \\frac {sxp(S_k(X))} {\\sum_{j=1}^{k}exp(S_j(X))}$$\n",
        "\n",
        "\n",
        "- $K$ = 클래스 수\n",
        "- $S(X)$는 샘플 X에 대한 각 클래스의 점수를 담은 벡터\n",
        "- $\\sigma(S(X))_k$는 샘플 $X$에 대한 각 클래스의 점수가 주어졌을 때 이 샘플이 클래스 $k$에 속할 추정 확률\n"
      ],
      "metadata": {
        "id": "ZHNiDlspfELH"
      }
    },
    {
      "cell_type": "markdown",
      "source": [
        "소프트맥스 회귀의 비용 함수\n",
        "\n",
        "각 분류 클래스 $k$에 대한 적절한 가중치들의 벡터 $\\theta^{(k)} = [\\theta_0^{(k)}, \\theta_1^{(k)}, ....., \\theta_n^{(k)}]$를 경사하강법을 이용하여 업데이트 한다. 이를 위해 크로스 엔트로피cross entropy를 비용 함수로 사용한다. $K=2$이면 로지스틱 회귀의 로그 손실 함수와 정확하게 일치한다.\n",
        "\n",
        "- 크로스 엔트로피 비용함수\n",
        "    - $y_k^{(i)}$: i번째 샘플에 대한 원-핫 인코딩된 타깃\n",
        "    - $\\hat p_k^{(i)}$: i번째 샘플이 클래스 k에 속할 확률 예측값\n",
        "$$J(\\Theta) = - \\frac {1} {m_b} \\sum_{1=0}^{m_b-1} \\sum_{k=0}^{K-1}y_k^{(i)}log(\\hat p_k^{(i)})$$\n",
        "\n"
      ],
      "metadata": {
        "id": "IYM_TDlHhhuA"
      }
    },
    {
      "cell_type": "markdown",
      "source": [
        "예를 들어, 4 개의 특성과 3개의 품종 클래스를 사용하는 붓꼿 데이터셋의 품종 분류 소프트맥스 회귀 모델에 사용되는 비용 함수의\n",
        "에 대한 그레이디언트 벡터는 다음과 같다.\n",
        "\n",
        "![image](https://github.com/user-attachments/assets/7f3931a3-781b-4708-a0cc-f40f2dedb91d)\n"
      ],
      "metadata": {
        "id": "24RZZ_gPjuc3"
      }
    },
    {
      "cell_type": "code",
      "source": [
        "X = iris.data[[\"petal length (cm)\", \"petal width (cm)\"]].values\n",
        "y = iris[\"target\"]\n",
        "X_train, X_test, y_train, y_test = train_test_split(X, y, random_state=42)\n",
        "\n",
        "softmax_reg = LogisticRegression(C=30, random_state=42) # 조금 약한 alpha 규제\n",
        "softmax_reg.fit(X_train, y_train)"
      ],
      "metadata": {
        "id": "qRu1FnktrXNk",
        "colab": {
          "base_uri": "https://localhost:8080/",
          "height": 74
        },
        "outputId": "108e7634-10e6-4f40-e507-5359c4d516d4"
      },
      "execution_count": 36,
      "outputs": [
        {
          "output_type": "execute_result",
          "data": {
            "text/plain": [
              "LogisticRegression(C=30, random_state=42)"
            ],
            "text/html": [
              "<style>#sk-container-id-3 {color: black;}#sk-container-id-3 pre{padding: 0;}#sk-container-id-3 div.sk-toggleable {background-color: white;}#sk-container-id-3 label.sk-toggleable__label {cursor: pointer;display: block;width: 100%;margin-bottom: 0;padding: 0.3em;box-sizing: border-box;text-align: center;}#sk-container-id-3 label.sk-toggleable__label-arrow:before {content: \"▸\";float: left;margin-right: 0.25em;color: #696969;}#sk-container-id-3 label.sk-toggleable__label-arrow:hover:before {color: black;}#sk-container-id-3 div.sk-estimator:hover label.sk-toggleable__label-arrow:before {color: black;}#sk-container-id-3 div.sk-toggleable__content {max-height: 0;max-width: 0;overflow: hidden;text-align: left;background-color: #f0f8ff;}#sk-container-id-3 div.sk-toggleable__content pre {margin: 0.2em;color: black;border-radius: 0.25em;background-color: #f0f8ff;}#sk-container-id-3 input.sk-toggleable__control:checked~div.sk-toggleable__content {max-height: 200px;max-width: 100%;overflow: auto;}#sk-container-id-3 input.sk-toggleable__control:checked~label.sk-toggleable__label-arrow:before {content: \"▾\";}#sk-container-id-3 div.sk-estimator input.sk-toggleable__control:checked~label.sk-toggleable__label {background-color: #d4ebff;}#sk-container-id-3 div.sk-label input.sk-toggleable__control:checked~label.sk-toggleable__label {background-color: #d4ebff;}#sk-container-id-3 input.sk-hidden--visually {border: 0;clip: rect(1px 1px 1px 1px);clip: rect(1px, 1px, 1px, 1px);height: 1px;margin: -1px;overflow: hidden;padding: 0;position: absolute;width: 1px;}#sk-container-id-3 div.sk-estimator {font-family: monospace;background-color: #f0f8ff;border: 1px dotted black;border-radius: 0.25em;box-sizing: border-box;margin-bottom: 0.5em;}#sk-container-id-3 div.sk-estimator:hover {background-color: #d4ebff;}#sk-container-id-3 div.sk-parallel-item::after {content: \"\";width: 100%;border-bottom: 1px solid gray;flex-grow: 1;}#sk-container-id-3 div.sk-label:hover label.sk-toggleable__label {background-color: #d4ebff;}#sk-container-id-3 div.sk-serial::before {content: \"\";position: absolute;border-left: 1px solid gray;box-sizing: border-box;top: 0;bottom: 0;left: 50%;z-index: 0;}#sk-container-id-3 div.sk-serial {display: flex;flex-direction: column;align-items: center;background-color: white;padding-right: 0.2em;padding-left: 0.2em;position: relative;}#sk-container-id-3 div.sk-item {position: relative;z-index: 1;}#sk-container-id-3 div.sk-parallel {display: flex;align-items: stretch;justify-content: center;background-color: white;position: relative;}#sk-container-id-3 div.sk-item::before, #sk-container-id-3 div.sk-parallel-item::before {content: \"\";position: absolute;border-left: 1px solid gray;box-sizing: border-box;top: 0;bottom: 0;left: 50%;z-index: -1;}#sk-container-id-3 div.sk-parallel-item {display: flex;flex-direction: column;z-index: 1;position: relative;background-color: white;}#sk-container-id-3 div.sk-parallel-item:first-child::after {align-self: flex-end;width: 50%;}#sk-container-id-3 div.sk-parallel-item:last-child::after {align-self: flex-start;width: 50%;}#sk-container-id-3 div.sk-parallel-item:only-child::after {width: 0;}#sk-container-id-3 div.sk-dashed-wrapped {border: 1px dashed gray;margin: 0 0.4em 0.5em 0.4em;box-sizing: border-box;padding-bottom: 0.4em;background-color: white;}#sk-container-id-3 div.sk-label label {font-family: monospace;font-weight: bold;display: inline-block;line-height: 1.2em;}#sk-container-id-3 div.sk-label-container {text-align: center;}#sk-container-id-3 div.sk-container {/* jupyter's `normalize.less` sets `[hidden] { display: none; }` but bootstrap.min.css set `[hidden] { display: none !important; }` so we also need the `!important` here to be able to override the default hidden behavior on the sphinx rendered scikit-learn.org. See: https://github.com/scikit-learn/scikit-learn/issues/21755 */display: inline-block !important;position: relative;}#sk-container-id-3 div.sk-text-repr-fallback {display: none;}</style><div id=\"sk-container-id-3\" class=\"sk-top-container\"><div class=\"sk-text-repr-fallback\"><pre>LogisticRegression(C=30, random_state=42)</pre><b>In a Jupyter environment, please rerun this cell to show the HTML representation or trust the notebook. <br />On GitHub, the HTML representation is unable to render, please try loading this page with nbviewer.org.</b></div><div class=\"sk-container\" hidden><div class=\"sk-item\"><div class=\"sk-estimator sk-toggleable\"><input class=\"sk-toggleable__control sk-hidden--visually\" id=\"sk-estimator-id-3\" type=\"checkbox\" checked><label for=\"sk-estimator-id-3\" class=\"sk-toggleable__label sk-toggleable__label-arrow\">LogisticRegression</label><div class=\"sk-toggleable__content\"><pre>LogisticRegression(C=30, random_state=42)</pre></div></div></div></div></div>"
            ]
          },
          "metadata": {},
          "execution_count": 36
        }
      ]
    },
    {
      "cell_type": "code",
      "source": [
        "softmax_reg.predict([[5, 2]])"
      ],
      "metadata": {
        "colab": {
          "base_uri": "https://localhost:8080/"
        },
        "id": "fHvDsrX_kICc",
        "outputId": "2cdcd11c-8e04-40e8-be1f-cc3a013a33ac"
      },
      "execution_count": 37,
      "outputs": [
        {
          "output_type": "execute_result",
          "data": {
            "text/plain": [
              "array([2])"
            ]
          },
          "metadata": {},
          "execution_count": 37
        }
      ]
    },
    {
      "cell_type": "code",
      "source": [
        "softmax_reg.predict_proba([[5, 2]]).round(2)"
      ],
      "metadata": {
        "colab": {
          "base_uri": "https://localhost:8080/"
        },
        "id": "FaiYx77KkMVq",
        "outputId": "02d1d1a1-6de5-457d-9c7f-9bdbe4563a02"
      },
      "execution_count": 38,
      "outputs": [
        {
          "output_type": "execute_result",
          "data": {
            "text/plain": [
              "array([[0.  , 0.04, 0.96]])"
            ]
          },
          "metadata": {},
          "execution_count": 38
        }
      ]
    },
    {
      "cell_type": "markdown",
      "source": [
        "![20240811173454](https://github.com/user-attachments/assets/5f1b2f0d-07dc-406a-a803-b3d274408f68)"
      ],
      "metadata": {
        "id": "_MVpSsg4k9pH"
      }
    },
    {
      "cell_type": "code",
      "source": [],
      "metadata": {
        "id": "Pp-99QFAk-Pi"
      },
      "execution_count": null,
      "outputs": []
    }
  ]
}